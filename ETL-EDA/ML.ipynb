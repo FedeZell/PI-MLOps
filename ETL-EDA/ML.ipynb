{
 "cells": [
  {
   "cell_type": "markdown",
   "metadata": {},
   "source": [
    "# Machine learning - Sistema de recomendación"
   ]
  },
  {
   "cell_type": "code",
   "execution_count": 33,
   "metadata": {},
   "outputs": [],
   "source": [
    "import pandas as pd\n",
    "import numpy as np\n",
    "from sklearn.feature_extraction.text import TfidfVectorizer\n",
    "from sklearn.metrics.pairwise import cosine_similarity\n",
    "import pyarrow as pa\n",
    "import pyarrow.parquet as pq"
   ]
  },
  {
   "cell_type": "markdown",
   "metadata": {},
   "source": [
    "### Preprocesamiento de los datos."
   ]
  },
  {
   "cell_type": "code",
   "execution_count": 34,
   "metadata": {},
   "outputs": [],
   "source": [
    "df_juegos = pd.read_parquet('C:\\\\Users\\\\fedez\\\\OneDrive\\\\Escritorio\\\\PI-MLOps\\\\Datasets\\\\Procesado\\\\juegos.parquet')\n",
    "df_resenias = pd.read_parquet('C:\\\\Users\\\\fedez\\\\OneDrive\\\\Escritorio\\\\PI-MLOps\\\\Datasets\\\\Procesado\\\\resenias.parquet')"
   ]
  },
  {
   "cell_type": "code",
   "execution_count": 35,
   "metadata": {},
   "outputs": [
    {
     "data": {
      "text/html": [
       "<div>\n",
       "<style scoped>\n",
       "    .dataframe tbody tr th:only-of-type {\n",
       "        vertical-align: middle;\n",
       "    }\n",
       "\n",
       "    .dataframe tbody tr th {\n",
       "        vertical-align: top;\n",
       "    }\n",
       "\n",
       "    .dataframe thead th {\n",
       "        text-align: right;\n",
       "    }\n",
       "</style>\n",
       "<table border=\"1\" class=\"dataframe\">\n",
       "  <thead>\n",
       "    <tr style=\"text-align: right;\">\n",
       "      <th></th>\n",
       "      <th>user_id</th>\n",
       "      <th>item_id</th>\n",
       "      <th>recommend</th>\n",
       "      <th>analisis_sentimiento</th>\n",
       "    </tr>\n",
       "  </thead>\n",
       "  <tbody>\n",
       "    <tr>\n",
       "      <th>46103</th>\n",
       "      <td>76561198038567931</td>\n",
       "      <td>219150</td>\n",
       "      <td>True</td>\n",
       "      <td>2</td>\n",
       "    </tr>\n",
       "  </tbody>\n",
       "</table>\n",
       "</div>"
      ],
      "text/plain": [
       "                 user_id item_id  recommend  analisis_sentimiento\n",
       "46103  76561198038567931  219150       True                     2"
      ]
     },
     "execution_count": 35,
     "metadata": {},
     "output_type": "execute_result"
    }
   ],
   "source": [
    "df_resenias.sample()"
   ]
  },
  {
   "cell_type": "code",
   "execution_count": 36,
   "metadata": {},
   "outputs": [
    {
     "data": {
      "text/html": [
       "<div>\n",
       "<style scoped>\n",
       "    .dataframe tbody tr th:only-of-type {\n",
       "        vertical-align: middle;\n",
       "    }\n",
       "\n",
       "    .dataframe tbody tr th {\n",
       "        vertical-align: top;\n",
       "    }\n",
       "\n",
       "    .dataframe thead th {\n",
       "        text-align: right;\n",
       "    }\n",
       "</style>\n",
       "<table border=\"1\" class=\"dataframe\">\n",
       "  <thead>\n",
       "    <tr style=\"text-align: right;\">\n",
       "      <th></th>\n",
       "      <th>genres</th>\n",
       "      <th>title</th>\n",
       "      <th>price</th>\n",
       "      <th>id</th>\n",
       "      <th>developer</th>\n",
       "      <th>release_year</th>\n",
       "    </tr>\n",
       "  </thead>\n",
       "  <tbody>\n",
       "    <tr>\n",
       "      <th>3097</th>\n",
       "      <td>action</td>\n",
       "      <td>bioshock infinite: burial at sea - episode two</td>\n",
       "      <td>14.99</td>\n",
       "      <td>214932</td>\n",
       "      <td>irrational games,aspyr (mac),virtual programmi...</td>\n",
       "      <td>2014</td>\n",
       "    </tr>\n",
       "  </tbody>\n",
       "</table>\n",
       "</div>"
      ],
      "text/plain": [
       "      genres                                           title  price      id  \\\n",
       "3097  action  bioshock infinite: burial at sea - episode two  14.99  214932   \n",
       "\n",
       "                                              developer  release_year  \n",
       "3097  irrational games,aspyr (mac),virtual programmi...          2014  "
      ]
     },
     "execution_count": 36,
     "metadata": {},
     "output_type": "execute_result"
    }
   ],
   "source": [
    "df_juegos.sample()"
   ]
  },
  {
   "cell_type": "code",
   "execution_count": 37,
   "metadata": {},
   "outputs": [
    {
     "data": {
      "text/html": [
       "<div>\n",
       "<style scoped>\n",
       "    .dataframe tbody tr th:only-of-type {\n",
       "        vertical-align: middle;\n",
       "    }\n",
       "\n",
       "    .dataframe tbody tr th {\n",
       "        vertical-align: top;\n",
       "    }\n",
       "\n",
       "    .dataframe thead th {\n",
       "        text-align: right;\n",
       "    }\n",
       "</style>\n",
       "<table border=\"1\" class=\"dataframe\">\n",
       "  <thead>\n",
       "    <tr style=\"text-align: right;\">\n",
       "      <th></th>\n",
       "      <th>genres</th>\n",
       "      <th>title</th>\n",
       "      <th>price</th>\n",
       "      <th>item_id</th>\n",
       "      <th>developer</th>\n",
       "      <th>release_year</th>\n",
       "    </tr>\n",
       "  </thead>\n",
       "  <tbody>\n",
       "    <tr>\n",
       "      <th>4747</th>\n",
       "      <td>adventure</td>\n",
       "      <td>pop: methodology experiment one - game of the ...</td>\n",
       "      <td>0.99</td>\n",
       "      <td>316070</td>\n",
       "      <td>rob lach</td>\n",
       "      <td>2014</td>\n",
       "    </tr>\n",
       "  </tbody>\n",
       "</table>\n",
       "</div>"
      ],
      "text/plain": [
       "         genres                                              title  price  \\\n",
       "4747  adventure  pop: methodology experiment one - game of the ...   0.99   \n",
       "\n",
       "     item_id developer  release_year  \n",
       "4747  316070  rob lach          2014  "
      ]
     },
     "execution_count": 37,
     "metadata": {},
     "output_type": "execute_result"
    }
   ],
   "source": [
    "# Se cambia el nombre de la columna \"id\" por \"item_id\" para poder realizar el merge de los dataframes\n",
    "df_juegos.rename(columns={'id': 'item_id'}, inplace=True)\n",
    "df_juegos.sample()"
   ]
  },
  {
   "cell_type": "code",
   "execution_count": 38,
   "metadata": {},
   "outputs": [],
   "source": [
    "# Se extraen las columnas necesarias de sus respectivos dataframes.\n",
    "df_jue_ml = df_juegos[['item_id', 'genres', 'title', 'release_year', 'developer']]\n",
    "df_res_ml = df_resenias[['item_id','recommend', 'analisis_sentimiento']]\n",
    "df_ml = df_res_ml.merge(df_jue_ml, on='item_id', how='inner')"
   ]
  },
  {
   "cell_type": "code",
   "execution_count": 39,
   "metadata": {},
   "outputs": [
    {
     "name": "stdout",
     "output_type": "stream",
     "text": [
      "<class 'pandas.core.frame.DataFrame'>\n",
      "RangeIndex: 120671 entries, 0 to 120670\n",
      "Data columns (total 7 columns):\n",
      " #   Column                Non-Null Count   Dtype \n",
      "---  ------                --------------   ----- \n",
      " 0   item_id               120671 non-null  object\n",
      " 1   recommend             120671 non-null  bool  \n",
      " 2   analisis_sentimiento  120671 non-null  int64 \n",
      " 3   genres                120671 non-null  object\n",
      " 4   title                 120671 non-null  object\n",
      " 5   release_year          120671 non-null  int32 \n",
      " 6   developer             120671 non-null  object\n",
      "dtypes: bool(1), int32(1), int64(1), object(4)\n",
      "memory usage: 5.2+ MB\n"
     ]
    }
   ],
   "source": [
    "df_ml.info()"
   ]
  },
  {
   "cell_type": "code",
   "execution_count": 40,
   "metadata": {},
   "outputs": [],
   "source": [
    "# Se crea una nueva columna combinando las columnas existentes \"genres\", \"title\" y \"developer\".\n",
    "df_ml['combined'] = df_ml['genres'] + ' ' + df_ml['title'] + ' ' + df_ml['developer']\n",
    "\n",
    "# Se eliminan las columnas \"genres\" y \"developer\"\n",
    "df_ml = df_ml.drop(['genres', 'developer'], axis=1)"
   ]
  },
  {
   "cell_type": "code",
   "execution_count": 41,
   "metadata": {},
   "outputs": [],
   "source": [
    "df_ml['item_id'] = df_ml['item_id'].fillna(0)\n",
    "# Se eliminan las filas con valores igual a cero em la columna \"item_id\" ya que no corresponden a un número id.\n",
    "df_ml = df_ml[df_ml['item_id'] != 0]\n",
    "df_ml['item_id'] = df_ml['item_id'].astype(np.int32)\n",
    "df_ml['analisis_sentimiento'] = df_ml['analisis_sentimiento'].fillna(0)\n",
    "df_ml['analisis_sentimiento'] = df_ml['analisis_sentimiento'].astype(np.int16)\n",
    "df_ml['release_year'] = df_ml['release_year'].fillna(0)\n",
    "# Se eliminan las filas que tienen valores iguales a cero en la columna \"playtime_forever\" ya que no se trata de años.\n",
    "df_ml = df_ml[df_ml['release_year'] != 0]\n",
    "df_ml['release_year'] = df_ml['release_year'].astype(np.int16)\n",
    "\n",
    "# Se eliminan los datos duplicados.\n",
    "df_ml = df_ml.drop_duplicates()\n",
    "\n",
    "#Se toma una muestra del dataframe.\n",
    "df_ml = df_ml.sample(n=3000, random_state=42, replace=True)\n",
    "\n",
    "# Se hace un reset del índice.\n",
    "df_ml.reset_index(inplace=True, drop=True)"
   ]
  },
  {
   "cell_type": "code",
   "execution_count": 42,
   "metadata": {},
   "outputs": [
    {
     "name": "stdout",
     "output_type": "stream",
     "text": [
      "<class 'pandas.core.frame.DataFrame'>\n",
      "RangeIndex: 3000 entries, 0 to 2999\n",
      "Data columns (total 6 columns):\n",
      " #   Column                Non-Null Count  Dtype \n",
      "---  ------                --------------  ----- \n",
      " 0   item_id               3000 non-null   int32 \n",
      " 1   recommend             3000 non-null   bool  \n",
      " 2   analisis_sentimiento  3000 non-null   int16 \n",
      " 3   title                 3000 non-null   object\n",
      " 4   release_year          3000 non-null   int16 \n",
      " 5   combined              3000 non-null   object\n",
      "dtypes: bool(1), int16(2), int32(1), object(2)\n",
      "memory usage: 73.4+ KB\n"
     ]
    }
   ],
   "source": [
    "df_ml.info()"
   ]
  },
  {
   "cell_type": "code",
   "execution_count": 43,
   "metadata": {},
   "outputs": [
    {
     "data": {
      "text/html": [
       "<div>\n",
       "<style scoped>\n",
       "    .dataframe tbody tr th:only-of-type {\n",
       "        vertical-align: middle;\n",
       "    }\n",
       "\n",
       "    .dataframe tbody tr th {\n",
       "        vertical-align: top;\n",
       "    }\n",
       "\n",
       "    .dataframe thead th {\n",
       "        text-align: right;\n",
       "    }\n",
       "</style>\n",
       "<table border=\"1\" class=\"dataframe\">\n",
       "  <thead>\n",
       "    <tr style=\"text-align: right;\">\n",
       "      <th></th>\n",
       "      <th>item_id</th>\n",
       "      <th>recommend</th>\n",
       "      <th>analisis_sentimiento</th>\n",
       "      <th>title</th>\n",
       "      <th>release_year</th>\n",
       "      <th>combined</th>\n",
       "    </tr>\n",
       "  </thead>\n",
       "  <tbody>\n",
       "    <tr>\n",
       "      <th>0</th>\n",
       "      <td>274170</td>\n",
       "      <td>True</td>\n",
       "      <td>1</td>\n",
       "      <td>hotline miami 2: wrong number</td>\n",
       "      <td>2015</td>\n",
       "      <td>indie hotline miami 2: wrong number dennaton g...</td>\n",
       "    </tr>\n",
       "    <tr>\n",
       "      <th>1</th>\n",
       "      <td>380360</td>\n",
       "      <td>True</td>\n",
       "      <td>0</td>\n",
       "      <td>tap tap infinity</td>\n",
       "      <td>2015</td>\n",
       "      <td>casual tap tap infinity scary bee llc</td>\n",
       "    </tr>\n",
       "    <tr>\n",
       "      <th>2</th>\n",
       "      <td>417860</td>\n",
       "      <td>False</td>\n",
       "      <td>0</td>\n",
       "      <td>emily is away</td>\n",
       "      <td>2015</td>\n",
       "      <td>indie emily is away kyle seeley</td>\n",
       "    </tr>\n",
       "    <tr>\n",
       "      <th>3</th>\n",
       "      <td>216150</td>\n",
       "      <td>True</td>\n",
       "      <td>2</td>\n",
       "      <td>maplestory</td>\n",
       "      <td>2012</td>\n",
       "      <td>rpg maplestory nexon</td>\n",
       "    </tr>\n",
       "    <tr>\n",
       "      <th>4</th>\n",
       "      <td>475490</td>\n",
       "      <td>True</td>\n",
       "      <td>1</td>\n",
       "      <td>major\\minor - complete edition</td>\n",
       "      <td>2016</td>\n",
       "      <td>adventure major\\minor - complete edition klace</td>\n",
       "    </tr>\n",
       "    <tr>\n",
       "      <th>...</th>\n",
       "      <td>...</td>\n",
       "      <td>...</td>\n",
       "      <td>...</td>\n",
       "      <td>...</td>\n",
       "      <td>...</td>\n",
       "      <td>...</td>\n",
       "    </tr>\n",
       "    <tr>\n",
       "      <th>2995</th>\n",
       "      <td>287220</td>\n",
       "      <td>False</td>\n",
       "      <td>1</td>\n",
       "      <td>autocraft</td>\n",
       "      <td>2017</td>\n",
       "      <td>indie autocraft alientrap</td>\n",
       "    </tr>\n",
       "    <tr>\n",
       "      <th>2996</th>\n",
       "      <td>231740</td>\n",
       "      <td>True</td>\n",
       "      <td>1</td>\n",
       "      <td>knights of pen and paper +1 edition</td>\n",
       "      <td>2013</td>\n",
       "      <td>indie knights of pen and paper +1 edition beho...</td>\n",
       "    </tr>\n",
       "    <tr>\n",
       "      <th>2997</th>\n",
       "      <td>298340</td>\n",
       "      <td>True</td>\n",
       "      <td>2</td>\n",
       "      <td>flashout 2</td>\n",
       "      <td>2014</td>\n",
       "      <td>action flashout 2 jujubee s.a.</td>\n",
       "    </tr>\n",
       "    <tr>\n",
       "      <th>2998</th>\n",
       "      <td>261980</td>\n",
       "      <td>True</td>\n",
       "      <td>2</td>\n",
       "      <td>half-life: before</td>\n",
       "      <td>2009</td>\n",
       "      <td>indie half-life: before andrii vintsevych</td>\n",
       "    </tr>\n",
       "    <tr>\n",
       "      <th>2999</th>\n",
       "      <td>335660</td>\n",
       "      <td>False</td>\n",
       "      <td>1</td>\n",
       "      <td>cafe 0 ~the drowned mermaid~</td>\n",
       "      <td>2011</td>\n",
       "      <td>adventure cafe 0 ~the drowned mermaid~ roseverte</td>\n",
       "    </tr>\n",
       "  </tbody>\n",
       "</table>\n",
       "<p>3000 rows × 6 columns</p>\n",
       "</div>"
      ],
      "text/plain": [
       "      item_id  recommend  analisis_sentimiento  \\\n",
       "0      274170       True                     1   \n",
       "1      380360       True                     0   \n",
       "2      417860      False                     0   \n",
       "3      216150       True                     2   \n",
       "4      475490       True                     1   \n",
       "...       ...        ...                   ...   \n",
       "2995   287220      False                     1   \n",
       "2996   231740       True                     1   \n",
       "2997   298340       True                     2   \n",
       "2998   261980       True                     2   \n",
       "2999   335660      False                     1   \n",
       "\n",
       "                                    title  release_year  \\\n",
       "0           hotline miami 2: wrong number          2015   \n",
       "1                        tap tap infinity          2015   \n",
       "2                           emily is away          2015   \n",
       "3                              maplestory          2012   \n",
       "4          major\\minor - complete edition          2016   \n",
       "...                                   ...           ...   \n",
       "2995                            autocraft          2017   \n",
       "2996  knights of pen and paper +1 edition          2013   \n",
       "2997                           flashout 2          2014   \n",
       "2998                    half-life: before          2009   \n",
       "2999         cafe 0 ~the drowned mermaid~          2011   \n",
       "\n",
       "                                               combined  \n",
       "0     indie hotline miami 2: wrong number dennaton g...  \n",
       "1                 casual tap tap infinity scary bee llc  \n",
       "2                       indie emily is away kyle seeley  \n",
       "3                                  rpg maplestory nexon  \n",
       "4        adventure major\\minor - complete edition klace  \n",
       "...                                                 ...  \n",
       "2995                          indie autocraft alientrap  \n",
       "2996  indie knights of pen and paper +1 edition beho...  \n",
       "2997                     action flashout 2 jujubee s.a.  \n",
       "2998          indie half-life: before andrii vintsevych  \n",
       "2999   adventure cafe 0 ~the drowned mermaid~ roseverte  \n",
       "\n",
       "[3000 rows x 6 columns]"
      ]
     },
     "execution_count": 43,
     "metadata": {},
     "output_type": "execute_result"
    }
   ],
   "source": [
    "df_ml"
   ]
  },
  {
   "cell_type": "code",
   "execution_count": 57,
   "metadata": {},
   "outputs": [],
   "source": [
    "def recomendacion_juego(item_id):\n",
    "\n",
    "    # Se crea una instancia de TfidfVectorizer y aplica fit_transform.\n",
    "    vectorizador = TfidfVectorizer()\n",
    "    matriz = vectorizador.fit_transform(df_ml['combined'])\n",
    "\n",
    "    # Se calcula la similitud del coseno.\n",
    "    coseno = cosine_similarity(matriz, matriz)\n",
    "\n",
    "    # Se verifica si el item_id existe en el DataFrame.\n",
    "    if item_id not in df_ml['item_id'].values:\n",
    "        return \"Error: item_id no encontrado.\"\n",
    "    \n",
    "    # Se busca el índice correspondiente al item_id.\n",
    "    item_indice = df_ml[df_ml['item_id'] == item_id].index[0]\n",
    "    \n",
    "    # Se consiguen las puntuaciones de similitud para ese ítem con todos los demás ítems.\n",
    "    puntuacion_similar = list(enumerate(coseno[item_indice]))\n",
    "    \n",
    "    # Se ordenan los ítems por puntuaciones de similitud en orden descendente.\n",
    "    puntuacion_similar = sorted(puntuacion_similar, key=lambda x: x[1], reverse=True)\n",
    "    \n",
    "    # Se obtienen los índices de los ítems con mayor simlitud (excluyendo el ítem en sí).\n",
    "    puntuacion_similar = puntuacion_similar[1:6]\n",
    "    \n",
    "    # Se obtienen los índices de los ítems más similares.\n",
    "    item_indices = [i[0] for i in puntuacion_similar]\n",
    "    \n",
    "    # Se obtiene el título del ítem ingresado.\n",
    "    item_title = df_ml.loc[df_ml['item_id'] == item_id, 'title'].values[0]\n",
    "    \n",
    "    # Se obtienen los títulos de los ítems más similares y se los convierte a formato title.\n",
    "    titulos = [titulo.title() for titulo in df_ml.iloc[item_indices]['title'].tolist()]\n",
    "    \n",
    "    return f\"Los títulos similares a '{item_title.title()}' son: {titulos}\""
   ]
  },
  {
   "cell_type": "code",
   "execution_count": 59,
   "metadata": {},
   "outputs": [
    {
     "data": {
      "text/plain": [
       "\"Los títulos similares a 'Cafe 0 ~The Drowned Mermaid~' son: ['The Stanley Parable', 'The Stanley Parable', 'Cradle', 'The Night Of The Rabbit', 'The Quest']\""
      ]
     },
     "execution_count": 59,
     "metadata": {},
     "output_type": "execute_result"
    }
   ],
   "source": [
    "recomendacion_juego(335660)"
   ]
  },
  {
   "cell_type": "code",
   "execution_count": 46,
   "metadata": {},
   "outputs": [
    {
     "data": {
      "text/plain": [
       "\"Los títulos similares a 'Tap Tap Infinity' son: ['Call Of Duty® 2', 'Gems Of War - Puzzle Rpg', 'Call Of Duty®: Ghosts - Squad Pack - Resistance', 'Turnon', 'Cubic Castles']\""
      ]
     },
     "execution_count": 46,
     "metadata": {},
     "output_type": "execute_result"
    }
   ],
   "source": [
    "recomendacion_juego(380360)"
   ]
  },
  {
   "cell_type": "markdown",
   "metadata": {},
   "source": [
    "### Carga de datos"
   ]
  },
  {
   "cell_type": "code",
   "execution_count": 24,
   "metadata": {},
   "outputs": [],
   "source": [
    "table = pa.Table.from_pandas(df_ml)\n",
    "pq.write_table(table, 'df_ml.parquet')"
   ]
  }
 ],
 "metadata": {
  "kernelspec": {
   "display_name": "Python 3",
   "language": "python",
   "name": "python3"
  },
  "language_info": {
   "codemirror_mode": {
    "name": "ipython",
    "version": 3
   },
   "file_extension": ".py",
   "mimetype": "text/x-python",
   "name": "python",
   "nbconvert_exporter": "python",
   "pygments_lexer": "ipython3",
   "version": "3.11.9"
  }
 },
 "nbformat": 4,
 "nbformat_minor": 2
}
