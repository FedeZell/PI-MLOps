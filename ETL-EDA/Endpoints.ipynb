{
 "cells": [
  {
   "cell_type": "markdown",
   "metadata": {},
   "source": [
    "# Endpoints"
   ]
  },
  {
   "cell_type": "code",
   "execution_count": 3,
   "metadata": {},
   "outputs": [],
   "source": [
    "import pandas as pd\n",
    "import numpy as np\n",
    "import pyarrow as pa\n",
    "import pyarrow.parquet as pq"
   ]
  },
  {
   "cell_type": "code",
   "execution_count": 4,
   "metadata": {},
   "outputs": [],
   "source": [
    "df_items = pd.read_parquet(r'C:\\Users\\fedez\\OneDrive\\Escritorio\\PI-MLOps\\Datasets\\Procesado\\items.parquet')\n",
    "df_juegos = pd.read_parquet(r'C:\\Users\\fedez\\OneDrive\\Escritorio\\PI-MLOps\\Datasets\\Procesado\\juegos.parquet')\n",
    "df_resenias = pd.read_parquet(r'C:\\Users\\fedez\\OneDrive\\Escritorio\\PI-MLOps\\Datasets\\Procesado\\resenias.parquet')"
   ]
  },
  {
   "cell_type": "code",
   "execution_count": 5,
   "metadata": {},
   "outputs": [
    {
     "data": {
      "text/html": [
       "<div>\n",
       "<style scoped>\n",
       "    .dataframe tbody tr th:only-of-type {\n",
       "        vertical-align: middle;\n",
       "    }\n",
       "\n",
       "    .dataframe tbody tr th {\n",
       "        vertical-align: top;\n",
       "    }\n",
       "\n",
       "    .dataframe thead th {\n",
       "        text-align: right;\n",
       "    }\n",
       "</style>\n",
       "<table border=\"1\" class=\"dataframe\">\n",
       "  <thead>\n",
       "    <tr style=\"text-align: right;\">\n",
       "      <th></th>\n",
       "      <th>user_id</th>\n",
       "      <th>items_count</th>\n",
       "      <th>item_id</th>\n",
       "      <th>playtime_forever</th>\n",
       "    </tr>\n",
       "  </thead>\n",
       "  <tbody>\n",
       "    <tr>\n",
       "      <th>1109089</th>\n",
       "      <td>Tuffgroggz</td>\n",
       "      <td>107</td>\n",
       "      <td>498240</td>\n",
       "      <td>114</td>\n",
       "    </tr>\n",
       "  </tbody>\n",
       "</table>\n",
       "</div>"
      ],
      "text/plain": [
       "            user_id  items_count item_id  playtime_forever\n",
       "1109089  Tuffgroggz          107  498240               114"
      ]
     },
     "execution_count": 5,
     "metadata": {},
     "output_type": "execute_result"
    }
   ],
   "source": [
    "df_items.sample()"
   ]
  },
  {
   "cell_type": "code",
   "execution_count": 6,
   "metadata": {},
   "outputs": [
    {
     "data": {
      "text/html": [
       "<div>\n",
       "<style scoped>\n",
       "    .dataframe tbody tr th:only-of-type {\n",
       "        vertical-align: middle;\n",
       "    }\n",
       "\n",
       "    .dataframe tbody tr th {\n",
       "        vertical-align: top;\n",
       "    }\n",
       "\n",
       "    .dataframe thead th {\n",
       "        text-align: right;\n",
       "    }\n",
       "</style>\n",
       "<table border=\"1\" class=\"dataframe\">\n",
       "  <thead>\n",
       "    <tr style=\"text-align: right;\">\n",
       "      <th></th>\n",
       "      <th>genres</th>\n",
       "      <th>title</th>\n",
       "      <th>price</th>\n",
       "      <th>id</th>\n",
       "      <th>developer</th>\n",
       "      <th>release_year</th>\n",
       "    </tr>\n",
       "  </thead>\n",
       "  <tbody>\n",
       "    <tr>\n",
       "      <th>1566</th>\n",
       "      <td>action</td>\n",
       "      <td>gotham city impostors free to play: weapon pac...</td>\n",
       "      <td>9.99</td>\n",
       "      <td>216432</td>\n",
       "      <td>monolith productions, inc.</td>\n",
       "      <td>2012</td>\n",
       "    </tr>\n",
       "  </tbody>\n",
       "</table>\n",
       "</div>"
      ],
      "text/plain": [
       "      genres                                              title  price  \\\n",
       "1566  action  gotham city impostors free to play: weapon pac...   9.99   \n",
       "\n",
       "          id                   developer  release_year  \n",
       "1566  216432  monolith productions, inc.          2012  "
      ]
     },
     "execution_count": 6,
     "metadata": {},
     "output_type": "execute_result"
    }
   ],
   "source": [
    "df_juegos.sample()"
   ]
  },
  {
   "cell_type": "code",
   "execution_count": 7,
   "metadata": {},
   "outputs": [
    {
     "data": {
      "text/html": [
       "<div>\n",
       "<style scoped>\n",
       "    .dataframe tbody tr th:only-of-type {\n",
       "        vertical-align: middle;\n",
       "    }\n",
       "\n",
       "    .dataframe tbody tr th {\n",
       "        vertical-align: top;\n",
       "    }\n",
       "\n",
       "    .dataframe thead th {\n",
       "        text-align: right;\n",
       "    }\n",
       "</style>\n",
       "<table border=\"1\" class=\"dataframe\">\n",
       "  <thead>\n",
       "    <tr style=\"text-align: right;\">\n",
       "      <th></th>\n",
       "      <th>user_id</th>\n",
       "      <th>item_id</th>\n",
       "      <th>recommend</th>\n",
       "      <th>analisis_sentimiento</th>\n",
       "    </tr>\n",
       "  </thead>\n",
       "  <tbody>\n",
       "    <tr>\n",
       "      <th>1635</th>\n",
       "      <td>76561198107811819</td>\n",
       "      <td>346120</td>\n",
       "      <td>True</td>\n",
       "      <td>2</td>\n",
       "    </tr>\n",
       "  </tbody>\n",
       "</table>\n",
       "</div>"
      ],
      "text/plain": [
       "                user_id item_id  recommend  analisis_sentimiento\n",
       "1635  76561198107811819  346120       True                     2"
      ]
     },
     "execution_count": 7,
     "metadata": {},
     "output_type": "execute_result"
    }
   ],
   "source": [
    "df_resenias.sample()"
   ]
  },
  {
   "cell_type": "code",
   "execution_count": 8,
   "metadata": {},
   "outputs": [
    {
     "data": {
      "text/html": [
       "<div>\n",
       "<style scoped>\n",
       "    .dataframe tbody tr th:only-of-type {\n",
       "        vertical-align: middle;\n",
       "    }\n",
       "\n",
       "    .dataframe tbody tr th {\n",
       "        vertical-align: top;\n",
       "    }\n",
       "\n",
       "    .dataframe thead th {\n",
       "        text-align: right;\n",
       "    }\n",
       "</style>\n",
       "<table border=\"1\" class=\"dataframe\">\n",
       "  <thead>\n",
       "    <tr style=\"text-align: right;\">\n",
       "      <th></th>\n",
       "      <th>genres</th>\n",
       "      <th>title</th>\n",
       "      <th>price</th>\n",
       "      <th>item_id</th>\n",
       "      <th>developer</th>\n",
       "      <th>release_year</th>\n",
       "    </tr>\n",
       "  </thead>\n",
       "  <tbody>\n",
       "    <tr>\n",
       "      <th>20182</th>\n",
       "      <td>indie</td>\n",
       "      <td>armored kitten</td>\n",
       "      <td>2.99</td>\n",
       "      <td>713530</td>\n",
       "      <td>ducat</td>\n",
       "      <td>2017</td>\n",
       "    </tr>\n",
       "  </tbody>\n",
       "</table>\n",
       "</div>"
      ],
      "text/plain": [
       "      genres           title  price item_id developer  release_year\n",
       "20182  indie  armored kitten   2.99  713530     ducat          2017"
      ]
     },
     "execution_count": 8,
     "metadata": {},
     "output_type": "execute_result"
    }
   ],
   "source": [
    "# Se cambia el nombre de la columna \"id\" por \"item_id\" para poder realizar el merge de los dataframes\n",
    "df_juegos.rename(columns={'id': 'item_id'}, inplace=True)\n",
    "df_juegos.sample()"
   ]
  },
  {
   "cell_type": "markdown",
   "metadata": {},
   "source": [
    "### Se genran dataframes específicos para cada endpoint."
   ]
  },
  {
   "cell_type": "markdown",
   "metadata": {},
   "source": [
    "Endpoints 1, 4 y 5.  \n",
    "Se genera un dataframe combinado para estos endpoints debido a que comparten varias columnas  \n",
    "necesarias para cada función y el uso de memoria del archivo mantiene un tamaño óptimo."
   ]
  },
  {
   "cell_type": "code",
   "execution_count": 9,
   "metadata": {},
   "outputs": [
    {
     "data": {
      "text/html": [
       "<div>\n",
       "<style scoped>\n",
       "    .dataframe tbody tr th:only-of-type {\n",
       "        vertical-align: middle;\n",
       "    }\n",
       "\n",
       "    .dataframe tbody tr th {\n",
       "        vertical-align: top;\n",
       "    }\n",
       "\n",
       "    .dataframe thead th {\n",
       "        text-align: right;\n",
       "    }\n",
       "</style>\n",
       "<table border=\"1\" class=\"dataframe\">\n",
       "  <thead>\n",
       "    <tr style=\"text-align: right;\">\n",
       "      <th></th>\n",
       "      <th>item_id</th>\n",
       "      <th>analisis_sentimiento</th>\n",
       "      <th>recommend</th>\n",
       "      <th>developer</th>\n",
       "      <th>release_year</th>\n",
       "      <th>price</th>\n",
       "    </tr>\n",
       "  </thead>\n",
       "  <tbody>\n",
       "    <tr>\n",
       "      <th>8889</th>\n",
       "      <td>371210</td>\n",
       "      <td>0</td>\n",
       "      <td>NaN</td>\n",
       "      <td>wareberd</td>\n",
       "      <td>2015</td>\n",
       "      <td>6.988281</td>\n",
       "    </tr>\n",
       "  </tbody>\n",
       "</table>\n",
       "</div>"
      ],
      "text/plain": [
       "      item_id  analisis_sentimiento recommend developer  release_year  \\\n",
       "8889   371210                     0       NaN  wareberd          2015   \n",
       "\n",
       "         price  \n",
       "8889  6.988281  "
      ]
     },
     "execution_count": 9,
     "metadata": {},
     "output_type": "execute_result"
    }
   ],
   "source": [
    "# Se extraen las columnas necesarias de sus respectivos dataframes.\n",
    "df_juegos_1_4_5 = df_juegos[['item_id', 'developer', 'release_year','price']]\n",
    "df_resenias_1_4_5 = df_resenias[['item_id', 'analisis_sentimiento','recommend']]\n",
    "\n",
    "# Se realiza el merge de las columnas extraídas.\n",
    "df_fun_1_4_5 = df_resenias_1_4_5.merge(df_juegos_1_4_5, on='item_id', how='outer')\n",
    "\n",
    "# Se procesa el dataframe para reducir el uso de memoria.\n",
    "df_fun_1_4_5 = df_fun_1_4_5.drop_duplicates()\n",
    "df_fun_1_4_5['price'] = df_fun_1_4_5['price'].fillna(0)\n",
    "df_fun_1_4_5['price'] = df_fun_1_4_5['price'].astype(np.float16)\n",
    "df_fun_1_4_5['release_year'] = df_fun_1_4_5['release_year'].fillna(0)\n",
    "# Se eliminan las filas que tienen valores iguales a cero en la columna \"playtime_forever\" ya que no se trata de años.\n",
    "df_fun_1_4_5 = df_fun_1_4_5[df_fun_1_4_5['release_year'] != 0]\n",
    "df_fun_1_4_5['release_year'] = df_fun_1_4_5['release_year'].astype(np.int16)\n",
    "df_fun_1_4_5['item_id'] = df_fun_1_4_5['item_id'].fillna(0)\n",
    "# Se eliminan las filas con valores igual a cero em la columna \"item_id\" ya que no corresponden a un número id.\n",
    "df_fun_1_4_5 = df_fun_1_4_5[df_fun_1_4_5['item_id'] != 0]\n",
    "df_fun_1_4_5['item_id'] = df_fun_1_4_5['item_id'].astype(np.int32)\n",
    "df_fun_1_4_5['analisis_sentimiento'] = df_fun_1_4_5['analisis_sentimiento'].fillna(0)\n",
    "df_fun_1_4_5['analisis_sentimiento'] = df_fun_1_4_5['analisis_sentimiento'].astype(np.int32)\n",
    "\n",
    "# Se hace un reset del índice.\n",
    "df_fun_1_4_5.reset_index(inplace=True, drop=True)\n",
    "df_fun_1_4_5.sample()"
   ]
  },
  {
   "cell_type": "code",
   "execution_count": 10,
   "metadata": {},
   "outputs": [
    {
     "name": "stdout",
     "output_type": "stream",
     "text": [
      "<class 'pandas.core.frame.DataFrame'>\n",
      "RangeIndex: 25984 entries, 0 to 25983\n",
      "Data columns (total 6 columns):\n",
      " #   Column                Non-Null Count  Dtype  \n",
      "---  ------                --------------  -----  \n",
      " 0   item_id               25984 non-null  int32  \n",
      " 1   analisis_sentimiento  25984 non-null  int32  \n",
      " 2   recommend             6352 non-null   object \n",
      " 3   developer             25984 non-null  object \n",
      " 4   release_year          25984 non-null  int16  \n",
      " 5   price                 25984 non-null  float16\n",
      "dtypes: float16(1), int16(1), int32(2), object(2)\n",
      "memory usage: 710.6+ KB\n"
     ]
    }
   ],
   "source": [
    "df_fun_1_4_5.info()"
   ]
  },
  {
   "cell_type": "markdown",
   "metadata": {},
   "source": [
    "Endpoint 2."
   ]
  },
  {
   "cell_type": "code",
   "execution_count": 11,
   "metadata": {},
   "outputs": [
    {
     "data": {
      "text/html": [
       "<div>\n",
       "<style scoped>\n",
       "    .dataframe tbody tr th:only-of-type {\n",
       "        vertical-align: middle;\n",
       "    }\n",
       "\n",
       "    .dataframe tbody tr th {\n",
       "        vertical-align: top;\n",
       "    }\n",
       "\n",
       "    .dataframe thead th {\n",
       "        text-align: right;\n",
       "    }\n",
       "</style>\n",
       "<table border=\"1\" class=\"dataframe\">\n",
       "  <thead>\n",
       "    <tr style=\"text-align: right;\">\n",
       "      <th></th>\n",
       "      <th>user_id</th>\n",
       "      <th>recommend</th>\n",
       "      <th>items_count</th>\n",
       "      <th>item_id</th>\n",
       "      <th>price</th>\n",
       "    </tr>\n",
       "  </thead>\n",
       "  <tbody>\n",
       "    <tr>\n",
       "      <th>468414</th>\n",
       "      <td>randymustache</td>\n",
       "      <td>True</td>\n",
       "      <td>231</td>\n",
       "      <td>34460</td>\n",
       "      <td>0.0</td>\n",
       "    </tr>\n",
       "  </tbody>\n",
       "</table>\n",
       "</div>"
      ],
      "text/plain": [
       "              user_id recommend  items_count  item_id  price\n",
       "468414  randymustache      True          231    34460    0.0"
      ]
     },
     "execution_count": 11,
     "metadata": {},
     "output_type": "execute_result"
    }
   ],
   "source": [
    "# Se eliminan las columnas innecesarias de sus respectivos dataframes.\n",
    "df_items_fun_2 = df_items.drop(['playtime_forever'], axis=1)\n",
    "df_games_fun_2 = df_juegos.drop(['genres','title', 'developer','release_year'], axis=1)\n",
    "df_reviews_fun_2 = df_resenias.drop(['analisis_sentimiento', 'item_id'], axis=1)\n",
    "\n",
    "# Se combinan los dataframes resultantes.\n",
    "df_merge = df_reviews_fun_2.merge(df_items_fun_2, on='user_id', how='outer')\n",
    "df_fun_2 = df_merge.merge(df_games_fun_2, on='item_id', how='outer')\n",
    "\n",
    "# Se procesa el dataframe para reducir el uso de memoria.\n",
    "df_fun_2 = df_fun_2.drop_duplicates()\n",
    "df_fun_2['items_count'] = df_fun_2['items_count'].fillna(0)\n",
    "df_fun_2['items_count'] = df_fun_2['items_count'].astype(np.int32)\n",
    "df_fun_2['price'] = df_fun_2['price'].fillna(0)\n",
    "df_fun_2['price'] = df_fun_2['price'].astype(np.float16)\n",
    "df_fun_2['item_id'] = df_fun_2['item_id'].fillna(0)\n",
    "# Se eliminan las filas con valores igual a cero em la columna \"item_id\" ya que no corresponden a un número id.\n",
    "df_fun_2 = df_fun_2[df_fun_2['item_id'] != 0]\n",
    "df_fun_2['item_id'] = df_fun_2['item_id'].astype(np.int32)\n",
    "\n",
    "#Se extrae una muestra del 10% del dataframe original para evitar complicaciones por uso de memoria en Render.\n",
    "df_fun_2 = df_fun_2.sample(frac=0.1, random_state=42)\n",
    "\n",
    "# Se hace un reset del índice.\n",
    "df_fun_2.reset_index(inplace=True, drop=True)\n",
    "df_fun_2.sample()"
   ]
  },
  {
   "cell_type": "code",
   "execution_count": 12,
   "metadata": {},
   "outputs": [
    {
     "name": "stdout",
     "output_type": "stream",
     "text": [
      "<class 'pandas.core.frame.DataFrame'>\n",
      "RangeIndex: 562441 entries, 0 to 562440\n",
      "Data columns (total 5 columns):\n",
      " #   Column       Non-Null Count   Dtype  \n",
      "---  ------       --------------   -----  \n",
      " 0   user_id      561011 non-null  object \n",
      " 1   recommend    309651 non-null  object \n",
      " 2   items_count  562441 non-null  int32  \n",
      " 3   item_id      562441 non-null  int32  \n",
      " 4   price        562441 non-null  float16\n",
      "dtypes: float16(1), int32(2), object(2)\n",
      "memory usage: 13.9+ MB\n"
     ]
    }
   ],
   "source": [
    "df_fun_2.info()"
   ]
  },
  {
   "cell_type": "markdown",
   "metadata": {},
   "source": [
    "Endpoint 3."
   ]
  },
  {
   "cell_type": "code",
   "execution_count": 13,
   "metadata": {},
   "outputs": [
    {
     "data": {
      "text/html": [
       "<div>\n",
       "<style scoped>\n",
       "    .dataframe tbody tr th:only-of-type {\n",
       "        vertical-align: middle;\n",
       "    }\n",
       "\n",
       "    .dataframe tbody tr th {\n",
       "        vertical-align: top;\n",
       "    }\n",
       "\n",
       "    .dataframe thead th {\n",
       "        text-align: right;\n",
       "    }\n",
       "</style>\n",
       "<table border=\"1\" class=\"dataframe\">\n",
       "  <thead>\n",
       "    <tr style=\"text-align: right;\">\n",
       "      <th></th>\n",
       "      <th>item_id</th>\n",
       "      <th>genres</th>\n",
       "      <th>release_year</th>\n",
       "      <th>user_id</th>\n",
       "      <th>playtime_forever</th>\n",
       "    </tr>\n",
       "  </thead>\n",
       "  <tbody>\n",
       "    <tr>\n",
       "      <th>296921</th>\n",
       "      <td>227940</td>\n",
       "      <td>indie</td>\n",
       "      <td>2016</td>\n",
       "      <td>EnvyMouse</td>\n",
       "      <td>46</td>\n",
       "    </tr>\n",
       "  </tbody>\n",
       "</table>\n",
       "</div>"
      ],
      "text/plain": [
       "        item_id genres  release_year    user_id  playtime_forever\n",
       "296921   227940  indie          2016  EnvyMouse                46"
      ]
     },
     "execution_count": 13,
     "metadata": {},
     "output_type": "execute_result"
    }
   ],
   "source": [
    "# Se extraen las columnas necesarias de sus respectivos dataframes.\n",
    "df_ju3 = df_juegos[['item_id', 'genres', 'release_year']]\n",
    "df_it3 = df_items[['item_id', 'user_id','playtime_forever']]\n",
    "\n",
    "# Se realiza el merge de las columnas extraídas.\n",
    "df_fun_3 = df_ju3.merge(df_it3, on='item_id', how='outer')\n",
    "\n",
    "# Se procesa el dataframe para reducir el uso de memoria.\n",
    "df_fun_3['release_year'] = df_fun_3['release_year'].fillna(0)\n",
    "# Se eliminan las filas que tienen valores iguales a cero en la columna \"playtime_forever\" ya que no se trata de años.\n",
    "df_fun_3 = df_fun_3[df_fun_3['release_year'] != 0]\n",
    "df_fun_3['release_year'] = df_fun_3['release_year'].astype(np.int16)\n",
    "df_fun_3['playtime_forever'] = df_fun_3['playtime_forever'].fillna(0)\n",
    "# Se eliminan las filas que tienen valores iguales a cero en la columna \"playtime_forever\" ya que no son necesarios para la función.\n",
    "df_fun_3 = df_fun_3[df_fun_3['playtime_forever'] != 0]\n",
    "df_fun_3['playtime_forever'] = df_fun_3['playtime_forever'].astype(np.int16)\n",
    "df_fun_3['item_id'] = df_fun_3['item_id'].fillna(0)\n",
    "# Se eliminan las filas con valores igual a cero em la columna \"item_id\" ya que no corresponden a un número id.\n",
    "df_fun_3 = df_fun_3[df_fun_3['item_id'] != 0]\n",
    "df_fun_3['item_id'] = df_fun_3['item_id'].astype(np.int32)\n",
    "\n",
    "#Se extrae una muestra del 10% del dataframe original para evitar complicaciones por uso de memoria en Render.\n",
    "df_fun_3 = df_fun_3.sample(frac=0.1, random_state=42)\n",
    "\n",
    "# Se hace un reset del índice.\n",
    "df_fun_3.reset_index(inplace=True, drop=True)\n",
    "df_fun_3.sample()"
   ]
  },
  {
   "cell_type": "code",
   "execution_count": 14,
   "metadata": {},
   "outputs": [
    {
     "name": "stdout",
     "output_type": "stream",
     "text": [
      "<class 'pandas.core.frame.DataFrame'>\n",
      "RangeIndex: 661138 entries, 0 to 661137\n",
      "Data columns (total 5 columns):\n",
      " #   Column            Non-Null Count   Dtype \n",
      "---  ------            --------------   ----- \n",
      " 0   item_id           661138 non-null  int32 \n",
      " 1   genres            661138 non-null  object\n",
      " 2   release_year      661138 non-null  int16 \n",
      " 3   user_id           661138 non-null  object\n",
      " 4   playtime_forever  661138 non-null  int16 \n",
      "dtypes: int16(2), int32(1), object(2)\n",
      "memory usage: 15.1+ MB\n"
     ]
    }
   ],
   "source": [
    "df_fun_3.info()"
   ]
  },
  {
   "cell_type": "markdown",
   "metadata": {},
   "source": [
    "### **Función 1**<br>\n",
    "**def developer( desarrollador : str )**: Cantidad de items y porcentaje de contenido Free por año según empresa desarrolladora.<br>\n",
    "Ejemplo de retorno:  \n",
    "Año | Cantidad de Items | % de contenido Free  \n",
    "2023 | 50 | 27%  \n",
    "2022 | 45 | 25%  \n",
    "xxxx | xx | xx%\n"
   ]
  },
  {
   "cell_type": "code",
   "execution_count": 19,
   "metadata": {},
   "outputs": [],
   "source": [
    "def developer(desarrollador):\n",
    "    \n",
    "    # Se normaliza el valor convirtiéndolo a minúscula.\n",
    "    desarrollador_m = desarrollador.lower()\n",
    "    \n",
    "    # Se fijan las filas en las que coincidan el desarrollador correspondiente.\n",
    "    desarrolladora = df_fun_1_4_5[df_fun_1_4_5['developer'] == desarrollador_m]\n",
    "    \n",
    "    # Se genera una lista para guardar los resultados de las iteraciones.\n",
    "    lista = []\n",
    "\n",
    "    # Se itera sobre los años únicos en los que hay lanzamientos para la desarrolladora.\n",
    "    for anio in desarrolladora['release_year'].unique():\n",
    "        # Se filtran los ítems por año de lanzamiento.\n",
    "        items_anio = desarrolladora[desarrolladora['release_year'] == anio]\n",
    "\n",
    "        # Se filtran los ítems por año de lanzamiento.\n",
    "        total_items = items_anio.shape[0]\n",
    "\n",
    "        # Se cuentan el número de ítems con precio igual a 0.00 en ese año.\n",
    "        items_gratis = items_anio[items_anio['price'] == 0.00].shape[0]\n",
    "\n",
    "        # Se calcula el porcentaje de ítems gratuitos\n",
    "        porcentaje_gratis = (items_gratis / total_items) * 100\n",
    "        \n",
    "        # Se agregan los resultados de las iteraciones a la lista\n",
    "        lista.append({\n",
    "            \"Año\": int(anio),\n",
    "            \"Cantidad de Items\": int(total_items),\n",
    "            \"Contenido Free\": f\"{porcentaje_gratis:.2f}%\"\n",
    "        })\n",
    "\n",
    "    # Se ordena la lista por el campo \"Año\" en orden descendente.\n",
    "    lista_ordenada = sorted(lista, key=lambda x: x[\"Año\"], reverse=True)\n",
    "\n",
    "    return lista_ordenada"
   ]
  },
  {
   "cell_type": "code",
   "execution_count": 20,
   "metadata": {},
   "outputs": [
    {
     "data": {
      "text/plain": [
       "[{'Año': 2017, 'Cantidad de Items': 5, 'Contenido Free': '20.00%'},\n",
       " {'Año': 2016, 'Cantidad de Items': 4, 'Contenido Free': '0.00%'},\n",
       " {'Año': 2015, 'Cantidad de Items': 7, 'Contenido Free': '0.00%'},\n",
       " {'Año': 2014, 'Cantidad de Items': 16, 'Contenido Free': '0.00%'},\n",
       " {'Año': 2013, 'Cantidad de Items': 6, 'Contenido Free': '0.00%'},\n",
       " {'Año': 2010, 'Cantidad de Items': 1, 'Contenido Free': '0.00%'},\n",
       " {'Año': 2009, 'Cantidad de Items': 4, 'Contenido Free': '0.00%'}]"
      ]
     },
     "execution_count": 20,
     "metadata": {},
     "output_type": "execute_result"
    }
   ],
   "source": [
    "developer('Square Enix')"
   ]
  },
  {
   "cell_type": "code",
   "execution_count": 49,
   "metadata": {},
   "outputs": [
    {
     "data": {
      "text/plain": [
       "[{'Año': 2012, 'Cantidad de Items': 6, 'Contenido Free': '0.00%'},\n",
       " {'Año': 2009, 'Cantidad de Items': 6, 'Contenido Free': '0.00%'},\n",
       " {'Año': 2004, 'Cantidad de Items': 22, 'Contenido Free': '0.00%'},\n",
       " {'Año': 2007, 'Cantidad de Items': 12, 'Contenido Free': '50.00%'},\n",
       " {'Año': 2011, 'Cantidad de Items': 6, 'Contenido Free': '0.00%'},\n",
       " {'Año': 1998, 'Cantidad de Items': 4, 'Contenido Free': '0.00%'},\n",
       " {'Año': 2008, 'Cantidad de Items': 4, 'Contenido Free': '0.00%'},\n",
       " {'Año': 2006, 'Cantidad de Items': 5, 'Contenido Free': '0.00%'},\n",
       " {'Año': 1999, 'Cantidad de Items': 5, 'Contenido Free': '0.00%'},\n",
       " {'Año': 2010, 'Cantidad de Items': 10, 'Contenido Free': '50.00%'},\n",
       " {'Año': 2000, 'Cantidad de Items': 6, 'Contenido Free': '0.00%'},\n",
       " {'Año': 2003, 'Cantidad de Items': 2, 'Contenido Free': '0.00%'},\n",
       " {'Año': 2001, 'Cantidad de Items': 1, 'Contenido Free': '0.00%'},\n",
       " {'Año': 2017, 'Cantidad de Items': 2, 'Contenido Free': '0.00%'}]"
      ]
     },
     "execution_count": 49,
     "metadata": {},
     "output_type": "execute_result"
    }
   ],
   "source": [
    "developer('Valve')"
   ]
  },
  {
   "cell_type": "markdown",
   "metadata": {},
   "source": [
    "### **Función 2**<br>\n",
    "**def userdata( User_id : str )**: Debe devolver cantidad de dinero gastado por el usuario, el porcentaje de recomendación en base a reviews.recommend y cantidad de items.<br>\n",
    "Ejemplo de retorno: {\"Usuario X\" : us213ndjss09sdf, \"Dinero gastado\": 200 USD, \"% de recomendación\": 20%, \"cantidad de items\": 5}"
   ]
  },
  {
   "cell_type": "code",
   "execution_count": 15,
   "metadata": {},
   "outputs": [],
   "source": [
    "def userdata(user_id):\n",
    "\n",
    "    # Si el valor no es una cadena de texto se devuelve un mensaje de error.\n",
    "    if type(user_id) != str:\n",
    "        return 'Error: El valor ingresado debe ser una palabra'\n",
    "    \n",
    "    # Se normaliza el valor convirtiéndolo a minúscula.\n",
    "    usuario_m = user_id.lower()\n",
    "    \n",
    "    # Se fijan las filas en las que coincidan el id de usuario correspondiente.\n",
    "    usuario = df_fun_2[df_fun_2['user_id'] == usuario_m]\n",
    "\n",
    "    # Se hace una sumatoria de los gatos respectivos a la variable.\n",
    "    gasto = usuario['price'].sum()\n",
    "\n",
    "    # Se obtiene el porcentaje de recomendación del usuario.\n",
    "    if usuario['recommend'].sum() == 0:\n",
    "        porcentaje_recomendacion = 0\n",
    "    else:\n",
    "        porcentaje_recomendacion =  (usuario['recommend'].sum() / len(usuario)) * 100\n",
    "\n",
    "    # Se contabiliza la cantidad de items que tiene el usuario\n",
    "    conteo_items = usuario.shape[0]\n",
    "\n",
    "    datos_usuario = {\n",
    "        \"User X\": user_id,\n",
    "        \"Dinero gastado\": f\"{gasto:.2f} USD\",\n",
    "        \"Porcentaje de recomendación\": f'{porcentaje_recomendacion}%',\n",
    "        \"Cantidad de items\": conteo_items\n",
    "        }\n",
    "    \n",
    "    return datos_usuario"
   ]
  },
  {
   "cell_type": "code",
   "execution_count": 16,
   "metadata": {},
   "outputs": [
    {
     "data": {
      "text/plain": [
       "{'User X': 'us213ndjss09sdf',\n",
       " 'Dinero gastado': '0.00 USD',\n",
       " 'Porcentaje de recomendación': '0%',\n",
       " 'Cantidad de items': 0}"
      ]
     },
     "execution_count": 16,
     "metadata": {},
     "output_type": "execute_result"
    }
   ],
   "source": [
    "userdata('us213ndjss09sdf')"
   ]
  },
  {
   "cell_type": "code",
   "execution_count": 17,
   "metadata": {},
   "outputs": [
    {
     "data": {
      "text/plain": [
       "{'User X': 'js41637',\n",
       " 'Dinero gastado': '966.00 USD',\n",
       " 'Porcentaje de recomendación': '100.0%',\n",
       " 'Cantidad de items': 91}"
      ]
     },
     "execution_count": 17,
     "metadata": {},
     "output_type": "execute_result"
    }
   ],
   "source": [
    "userdata('js41637')"
   ]
  },
  {
   "cell_type": "markdown",
   "metadata": {},
   "source": [
    "### **Función 3**<br>\n",
    "**def UserForGenre( genero : str )**: Debe devolver el usuario que acumula más horas jugadas para el género dado y una lista de la acumulación de horas jugadas por año de lanzamiento.<br>\n",
    "Ejemplo de retorno: {\"Usuario con más horas jugadas para Género X\" : us213ndjss09sdf, \"Horas jugadas\":[{Año: 2013, Horas: 203}, {Año: 2012, Horas: 100}, {Año: 2011, Horas: 23}]}"
   ]
  },
  {
   "cell_type": "code",
   "execution_count": 18,
   "metadata": {},
   "outputs": [],
   "source": [
    "def User_For_Genre(genero):\n",
    "    # Se convierte la cadena de texto ingresada en minúscula.\n",
    "    genero_m = genero.lower()\n",
    "    \n",
    "    # Se corrobora que el valor ingresado esté dentro del dataframe.\n",
    "    df_genero = df_fun_3[df_fun_3[\"genres\"] == genero_m]\n",
    "\n",
    "    # Se genera una sumatoria de las horas jugadas por año.\n",
    "    df_horas_anuales = df_genero.groupby([\"release_year\"])[\"playtime_forever\"].sum()\n",
    "    df_horas_anuales = df_horas_anuales.reset_index()\n",
    "\n",
    "    # Se hace una sumatoria de las horas respecto al usuario.\n",
    "    df_horas = df_genero.groupby(\"user_id\")[\"playtime_forever\"].sum()\n",
    "    \n",
    "    # Se calcula el usuario con mayor cantidad de horas acumuladas.\n",
    "    top_horas = df_horas.idxmax()\n",
    "\n",
    "    df_horas_anuales = df_horas_anuales.rename(columns={\"release_year\": \"Año\", \"playtime_forever\": \"Horas\"})\n",
    "    horas_anuales = df_horas_anuales.to_dict(orient=\"records\")\n",
    "\n",
    "    return {f\"Usuario con más horas jugadas para género {genero}\": top_horas, \"Horas jugadas\": horas_anuales}"
   ]
  },
  {
   "cell_type": "code",
   "execution_count": 19,
   "metadata": {},
   "outputs": [
    {
     "data": {
      "text/plain": [
       "{'Usuario con más horas jugadas para género action': 'REBAS_AS_F-T',\n",
       " 'Horas jugadas': [{'Año': 1983, 'Horas': 256},\n",
       "  {'Año': 1988, 'Horas': 1162},\n",
       "  {'Año': 1990, 'Horas': 2161},\n",
       "  {'Año': 1991, 'Horas': 407},\n",
       "  {'Año': 1992, 'Horas': 27},\n",
       "  {'Año': 1993, 'Horas': 1874},\n",
       "  {'Año': 1994, 'Horas': 17998},\n",
       "  {'Año': 1995, 'Horas': 19660},\n",
       "  {'Año': 1996, 'Horas': 4748},\n",
       "  {'Año': 1997, 'Horas': 43243},\n",
       "  {'Año': 1998, 'Horas': 246705},\n",
       "  {'Año': 1999, 'Horas': 223067},\n",
       "  {'Año': 2000, 'Horas': 676235},\n",
       "  {'Año': 2001, 'Horas': 108493},\n",
       "  {'Año': 2002, 'Horas': 58455},\n",
       "  {'Año': 2003, 'Horas': 692589},\n",
       "  {'Año': 2004, 'Horas': 5009527},\n",
       "  {'Año': 2005, 'Horas': 1098669},\n",
       "  {'Año': 2006, 'Horas': 963098},\n",
       "  {'Año': 2007, 'Horas': 1602999},\n",
       "  {'Año': 2008, 'Horas': 2392268},\n",
       "  {'Año': 2009, 'Horas': 11179595},\n",
       "  {'Año': 2010, 'Horas': 11300666},\n",
       "  {'Año': 2011, 'Horas': 21282035},\n",
       "  {'Año': 2012, 'Horas': 39341999},\n",
       "  {'Año': 2013, 'Horas': 22170155},\n",
       "  {'Año': 2014, 'Horas': 13685611},\n",
       "  {'Año': 2015, 'Horas': 17853033},\n",
       "  {'Año': 2016, 'Horas': 7521593},\n",
       "  {'Año': 2017, 'Horas': 8531720}]}"
      ]
     },
     "execution_count": 19,
     "metadata": {},
     "output_type": "execute_result"
    }
   ],
   "source": [
    "User_For_Genre('action')"
   ]
  },
  {
   "cell_type": "markdown",
   "metadata": {},
   "source": [
    "### **Función 4**<br>\n",
    "**def best_developer_year( año : int )**: Devuelve el top 3 de desarrolladores con juegos MÁS recomendados por usuarios para el año dado. (reviews.recommend = True y comentarios positivos).<br>\n",
    "Ejemplo de retorno: [{\"Puesto 1\" : X}, {\"Puesto 2\" : Y},{\"Puesto 3\" : Z}]\n",
    "\n"
   ]
  },
  {
   "cell_type": "code",
   "execution_count": 20,
   "metadata": {},
   "outputs": [],
   "source": [
    "def best_developer_year(anio):\n",
    "\n",
    "    # Se corrobora que el input sea correcto.\n",
    "    if anio not in df_fun_1_4_5['release_year'].unique():\n",
    "        return f\"El año {anio} no existe en los registros.\"\n",
    "    \n",
    "    # Filtrar el dataset para obtener solo las filas correspondientes al año dado.\n",
    "    juegos_del_año = df_fun_1_4_5[df_fun_1_4_5['release_year'] == anio]\n",
    "\n",
    "    # Se calculan las reseñas por desarrolladora.\n",
    "    resenias = juegos_del_año.groupby('developer')['recommend'].sum().reset_index()\n",
    "\n",
    "    # Se ordenan los juegos mejor valorados en orden ascendente.\n",
    "    desarrolladoras = resenias.sort_values(by='recommend', ascending=False)\n",
    "\n",
    "    # Se ordenan los primeros tres puestos\n",
    "    oro = desarrolladoras.iloc[0]['developer']\n",
    "    plata = desarrolladoras.iloc[1]['developer']\n",
    "    bronce = desarrolladoras.iloc[2]['developer']\n",
    "\n",
    "    # Crear la lista de diccionarios con los tres primeros lugares\n",
    "    top3 = [{\"Puesto 1\": oro.title()}, {\"Puesto 2\": plata.title()}, {\"Puesto 3\": bronce.title()}]\n",
    "    return top3"
   ]
  },
  {
   "cell_type": "code",
   "execution_count": 21,
   "metadata": {},
   "outputs": [
    {
     "name": "stdout",
     "output_type": "stream",
     "text": [
      "2008 : [{'Puesto 1': 'Ubisoft Montreal'}, {'Puesto 2': 'Maxis™'}, {'Puesto 3': \"Traveller'S Tales\"}]\n",
      "2009 : [{'Puesto 1': 'Popcap Games, Inc.'}, {'Puesto 2': 'Gearbox Software'}, {'Puesto 3': 'Ea Los Angeles'}]\n",
      "2010 : [{'Puesto 1': 'Valve'}, {'Puesto 2': 'Bioware'}, {'Puesto 3': 'Obsidian Entertainment'}]\n",
      "2011 : [{'Puesto 1': 'Obsidian Entertainment'}, {'Puesto 2': 'Reloaded Productions'}, {'Puesto 3': 'Volition'}]\n",
      "2012 : [{'Puesto 1': 'The Behemoth'}, {'Puesto 2': 'Gearbox Software,Aspyr (Mac &Amp; Linux)'}, {'Puesto 3': 'Daedalic Entertainment'}]\n",
      "2013 : [{'Puesto 1': 'Telltale Games'}, {'Puesto 2': 'Bohemia Interactive'}, {'Puesto 3': 'Deep Silver Volition'}]\n",
      "2014 : [{'Puesto 1': 'Square Enix'}, {'Puesto 2': 'Ubisoft'}, {'Puesto 3': 'Telltale Games'}]\n",
      "2015 : [{'Puesto 1': 'Psyonix, Inc.'}, {'Puesto 2': 'Capcom Co., Ltd.'}, {'Puesto 3': 'Koei Tecmo Games Co., Ltd.'}]\n",
      "2016 : [{'Puesto 1': 'Bethesda Game Studios'}, {'Puesto 2': 'Capcom'}, {'Puesto 3': 'Paradox Development Studio'}]\n",
      "2017 : [{'Puesto 1': 'Studio Wildcard,Instinct Games,Efecto Studios,Virtual Basement Llc'}, {'Puesto 2': 'Funcom'}, {'Puesto 3': 'Trendy Entertainment'}]\n",
      "2018 : [{'Puesto 1': 'Apillo'}, {'Puesto 2': 'Momostorm Entertainment'}, {'Puesto 3': 'Mp Game Studios'}]\n"
     ]
    }
   ],
   "source": [
    "for i in range(2008, 2019):\n",
    "    print(f'{i} : {best_developer_year(i)}')"
   ]
  },
  {
   "cell_type": "markdown",
   "metadata": {},
   "source": [
    "### **Función 5** <br>\n",
    "**def developer_reviews_analysis( desarrolladora : str )**: Según el desarrollador, se devuelve un diccionario con el nombre del desarrollador como llave y una lista con la cantidad total de registros de reseñas de usuarios que se encuentren categorizados con un análisis de sentimiento como valor positivo o negativo.<br>\n",
    "Ejemplo de retorno: {'Valve' : [Negative = 182, Positive = 278]}"
   ]
  },
  {
   "cell_type": "code",
   "execution_count": 22,
   "metadata": {},
   "outputs": [],
   "source": [
    "def developer_reviews_analysis(desarrolladora):\n",
    "\n",
    "    # Si el valor no es una cadena de texto se devuelve un mensaje de error.\n",
    "    if type(desarrolladora) != str:\n",
    "        return 'Error: El valor ingresado debe ser una palabra'\n",
    "    \n",
    "    #Se convierten a minúscula los valores ingresados para compatibilizar con los valores de la columna 'developer'.\n",
    "    desarrollador = desarrolladora.lower()\n",
    "\n",
    "    #Se corrobora que el valor ingresado se encuentre en la columna.\n",
    "    desarrollador = df_fun_1_4_5[df_fun_1_4_5['developer'] == desarrollador]\n",
    "    \n",
    "    analisis = desarrollador['analisis_sentimiento']\n",
    "    # Se hace un conteo de las opiniones.\n",
    "    opinion = analisis.value_counts()\n",
    "\n",
    "    return {desarrolladora : list([f'Negative: {(opinion.get(0, 0))}',\n",
    "                                    f'Positive: {(opinion.get(2, 0))}'])}"
   ]
  },
  {
   "cell_type": "code",
   "execution_count": 24,
   "metadata": {},
   "outputs": [
    {
     "data": {
      "text/plain": [
       "{'Ubisoft': ['Negative: 23', 'Positive: 9']}"
      ]
     },
     "execution_count": 24,
     "metadata": {},
     "output_type": "execute_result"
    }
   ],
   "source": [
    "developer_reviews_analysis('Ubisoft')"
   ]
  },
  {
   "cell_type": "markdown",
   "metadata": {},
   "source": [
    "### Carga de datos.  \n",
    "Se guardan los datasets específicos de los enpoints en archivos en formato parquet para su posterior uso."
   ]
  },
  {
   "cell_type": "markdown",
   "metadata": {},
   "source": [
    "Endpoints 1, 4 y 5."
   ]
  },
  {
   "cell_type": "code",
   "execution_count": 25,
   "metadata": {},
   "outputs": [],
   "source": [
    "table = pa.Table.from_pandas(df_fun_1_4_5)\n",
    "pq.write_table(table, 'df_fun_1_4_5.parquet')"
   ]
  },
  {
   "cell_type": "markdown",
   "metadata": {},
   "source": [
    "Endpoint 2"
   ]
  },
  {
   "cell_type": "code",
   "execution_count": 26,
   "metadata": {},
   "outputs": [],
   "source": [
    "table = pa.Table.from_pandas(df_fun_2)\n",
    "pq.write_table(table, 'df_fun_2.parquet')"
   ]
  },
  {
   "cell_type": "markdown",
   "metadata": {},
   "source": [
    "Endpoint 3."
   ]
  },
  {
   "cell_type": "code",
   "execution_count": 27,
   "metadata": {},
   "outputs": [],
   "source": [
    "table = pa.Table.from_pandas(df_fun_3)\n",
    "pq.write_table(table, 'df_fun_3.parquet')"
   ]
  }
 ],
 "metadata": {
  "kernelspec": {
   "display_name": "Python 3",
   "language": "python",
   "name": "python3"
  },
  "language_info": {
   "codemirror_mode": {
    "name": "ipython",
    "version": 3
   },
   "file_extension": ".py",
   "mimetype": "text/x-python",
   "name": "python",
   "nbconvert_exporter": "python",
   "pygments_lexer": "ipython3",
   "version": "3.11.9"
  }
 },
 "nbformat": 4,
 "nbformat_minor": 2
}
