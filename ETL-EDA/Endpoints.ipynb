{
 "cells": [
  {
   "cell_type": "markdown",
   "metadata": {},
   "source": [
    "# Endpoints"
   ]
  },
  {
   "cell_type": "code",
   "execution_count": 4,
   "metadata": {},
   "outputs": [],
   "source": [
    "import pandas as pd\n",
    "import numpy as np\n",
    "import pyarrow as pa\n",
    "import pyarrow.parquet as pq"
   ]
  },
  {
   "cell_type": "code",
   "execution_count": 10,
   "metadata": {},
   "outputs": [],
   "source": [
    "df_items = pd.read_parquet(r'C:\\Users\\fedez\\OneDrive\\Escritorio\\PI-MLOps\\Data\\Procesada\\items.parquet')\n",
    "df_juegos = pd.read_parquet(r'C:\\Users\\fedez\\OneDrive\\Escritorio\\PI-MLOps\\Data\\Procesada\\juegos.parquet')\n",
    "df_resenias = pd.read_parquet(r'C:\\Users\\fedez\\OneDrive\\Escritorio\\PI-MLOps\\Data\\Procesada\\resenias.parquet')"
   ]
  },
  {
   "cell_type": "code",
   "execution_count": 3,
   "metadata": {},
   "outputs": [
    {
     "data": {
      "text/html": [
       "<div>\n",
       "<style scoped>\n",
       "    .dataframe tbody tr th:only-of-type {\n",
       "        vertical-align: middle;\n",
       "    }\n",
       "\n",
       "    .dataframe tbody tr th {\n",
       "        vertical-align: top;\n",
       "    }\n",
       "\n",
       "    .dataframe thead th {\n",
       "        text-align: right;\n",
       "    }\n",
       "</style>\n",
       "<table border=\"1\" class=\"dataframe\">\n",
       "  <thead>\n",
       "    <tr style=\"text-align: right;\">\n",
       "      <th></th>\n",
       "      <th>user_id</th>\n",
       "      <th>items_count</th>\n",
       "      <th>item_id</th>\n",
       "      <th>playtime_forever</th>\n",
       "    </tr>\n",
       "  </thead>\n",
       "  <tbody>\n",
       "    <tr>\n",
       "      <th>739402</th>\n",
       "      <td>76561197970675875</td>\n",
       "      <td>122</td>\n",
       "      <td>346110</td>\n",
       "      <td>644</td>\n",
       "    </tr>\n",
       "  </tbody>\n",
       "</table>\n",
       "</div>"
      ],
      "text/plain": [
       "                  user_id  items_count item_id  playtime_forever\n",
       "739402  76561197970675875          122  346110               644"
      ]
     },
     "execution_count": 3,
     "metadata": {},
     "output_type": "execute_result"
    }
   ],
   "source": [
    "df_items.sample()"
   ]
  },
  {
   "cell_type": "code",
   "execution_count": 4,
   "metadata": {},
   "outputs": [
    {
     "data": {
      "text/html": [
       "<div>\n",
       "<style scoped>\n",
       "    .dataframe tbody tr th:only-of-type {\n",
       "        vertical-align: middle;\n",
       "    }\n",
       "\n",
       "    .dataframe tbody tr th {\n",
       "        vertical-align: top;\n",
       "    }\n",
       "\n",
       "    .dataframe thead th {\n",
       "        text-align: right;\n",
       "    }\n",
       "</style>\n",
       "<table border=\"1\" class=\"dataframe\">\n",
       "  <thead>\n",
       "    <tr style=\"text-align: right;\">\n",
       "      <th></th>\n",
       "      <th>genres</th>\n",
       "      <th>title</th>\n",
       "      <th>price</th>\n",
       "      <th>id</th>\n",
       "      <th>developer</th>\n",
       "      <th>release_year</th>\n",
       "    </tr>\n",
       "  </thead>\n",
       "  <tbody>\n",
       "    <tr>\n",
       "      <th>20095</th>\n",
       "      <td>action</td>\n",
       "      <td>killer instinct</td>\n",
       "      <td>39.99</td>\n",
       "      <td>577940</td>\n",
       "      <td>iron galaxy</td>\n",
       "      <td>2017</td>\n",
       "    </tr>\n",
       "  </tbody>\n",
       "</table>\n",
       "</div>"
      ],
      "text/plain": [
       "       genres            title  price      id    developer  release_year\n",
       "20095  action  killer instinct  39.99  577940  iron galaxy          2017"
      ]
     },
     "execution_count": 4,
     "metadata": {},
     "output_type": "execute_result"
    }
   ],
   "source": [
    "df_juegos.sample()"
   ]
  },
  {
   "cell_type": "code",
   "execution_count": 5,
   "metadata": {},
   "outputs": [
    {
     "data": {
      "text/html": [
       "<div>\n",
       "<style scoped>\n",
       "    .dataframe tbody tr th:only-of-type {\n",
       "        vertical-align: middle;\n",
       "    }\n",
       "\n",
       "    .dataframe tbody tr th {\n",
       "        vertical-align: top;\n",
       "    }\n",
       "\n",
       "    .dataframe thead th {\n",
       "        text-align: right;\n",
       "    }\n",
       "</style>\n",
       "<table border=\"1\" class=\"dataframe\">\n",
       "  <thead>\n",
       "    <tr style=\"text-align: right;\">\n",
       "      <th></th>\n",
       "      <th>user_id</th>\n",
       "      <th>item_id</th>\n",
       "      <th>recommend</th>\n",
       "      <th>analisis_sentimiento</th>\n",
       "    </tr>\n",
       "  </thead>\n",
       "  <tbody>\n",
       "    <tr>\n",
       "      <th>43012</th>\n",
       "      <td>comradebeeblebrox</td>\n",
       "      <td>219640</td>\n",
       "      <td>True</td>\n",
       "      <td>1</td>\n",
       "    </tr>\n",
       "  </tbody>\n",
       "</table>\n",
       "</div>"
      ],
      "text/plain": [
       "                 user_id item_id  recommend  analisis_sentimiento\n",
       "43012  comradebeeblebrox  219640       True                     1"
      ]
     },
     "execution_count": 5,
     "metadata": {},
     "output_type": "execute_result"
    }
   ],
   "source": [
    "df_resenias.sample()"
   ]
  },
  {
   "cell_type": "code",
   "execution_count": 11,
   "metadata": {},
   "outputs": [
    {
     "data": {
      "text/html": [
       "<div>\n",
       "<style scoped>\n",
       "    .dataframe tbody tr th:only-of-type {\n",
       "        vertical-align: middle;\n",
       "    }\n",
       "\n",
       "    .dataframe tbody tr th {\n",
       "        vertical-align: top;\n",
       "    }\n",
       "\n",
       "    .dataframe thead th {\n",
       "        text-align: right;\n",
       "    }\n",
       "</style>\n",
       "<table border=\"1\" class=\"dataframe\">\n",
       "  <thead>\n",
       "    <tr style=\"text-align: right;\">\n",
       "      <th></th>\n",
       "      <th>genres</th>\n",
       "      <th>title</th>\n",
       "      <th>price</th>\n",
       "      <th>item_id</th>\n",
       "      <th>developer</th>\n",
       "      <th>release_year</th>\n",
       "    </tr>\n",
       "  </thead>\n",
       "  <tbody>\n",
       "    <tr>\n",
       "      <th>26105</th>\n",
       "      <td>indie</td>\n",
       "      <td>magic matchstick</td>\n",
       "      <td>0.99</td>\n",
       "      <td>718660</td>\n",
       "      <td>anime squad</td>\n",
       "      <td>2017</td>\n",
       "    </tr>\n",
       "  </tbody>\n",
       "</table>\n",
       "</div>"
      ],
      "text/plain": [
       "      genres             title  price item_id    developer  release_year\n",
       "26105  indie  magic matchstick   0.99  718660  anime squad          2017"
      ]
     },
     "execution_count": 11,
     "metadata": {},
     "output_type": "execute_result"
    }
   ],
   "source": [
    "# Se cambia el nombre de la columna \"id\" por \"item_id\" para poder realizar el merge de los dataframes\n",
    "df_juegos.rename(columns={'id': 'item_id'}, inplace=True)\n",
    "df_juegos.sample()"
   ]
  },
  {
   "cell_type": "markdown",
   "metadata": {},
   "source": [
    "### Se genran dataframes específicos para cada endpoint."
   ]
  },
  {
   "cell_type": "markdown",
   "metadata": {},
   "source": [
    "Endpoint 2."
   ]
  },
  {
   "cell_type": "code",
   "execution_count": 42,
   "metadata": {},
   "outputs": [
    {
     "name": "stdout",
     "output_type": "stream",
     "text": [
      "<class 'pandas.core.frame.DataFrame'>\n",
      "RangeIndex: 5627692 entries, 0 to 5627691\n",
      "Data columns (total 5 columns):\n",
      " #   Column       Dtype  \n",
      "---  ------       -----  \n",
      " 0   user_id      object \n",
      " 1   recommend    object \n",
      " 2   items_count  int32  \n",
      " 3   item_id      int32  \n",
      " 4   price        float16\n",
      "dtypes: float16(1), int32(2), object(2)\n",
      "memory usage: 139.5+ MB\n"
     ]
    }
   ],
   "source": [
    "# Se extraen las columnas necesarias de sus respectivos dataframes.\n",
    "df_items_fun_2 = df_items.drop(['playtime_forever'], axis=1)\n",
    "df_games_fun_2 = df_juegos.drop(['genres','title', 'developer','release_year'], axis=1)\n",
    "df_reviews_fun_2 = df_resenias.drop(['analisis_sentimiento', 'item_id'], axis=1)\n",
    "\n",
    "# Se combinan los dataframes.\n",
    "df_merge = df_reviews_fun_2.merge(df_items_fun_2, on='user_id', how='outer')\n",
    "df_fun_2 = df_merge.merge(df_games_fun_2, on='item_id', how='outer')\n",
    "\n",
    "# Se procesa el dataframe para reducir el uso de memoria.\n",
    "df_fun_2 = df_fun_2.drop_duplicates()\n",
    "df_fun_2['items_count'] = df_fun_2['items_count'].fillna(0)\n",
    "df_fun_2['items_count'] = df_fun_2['items_count'].astype(np.int32)\n",
    "df_fun_2['price'] = df_fun_2['price'].fillna(0)\n",
    "df_fun_2['price'] = df_fun_2['price'].astype(np.float16)\n",
    "df_fun_2['item_id'] = df_fun_2['item_id'].fillna(0)\n",
    "df_fun_2['item_id'] = df_fun_2['item_id'].astype(np.int32)\n",
    "df_fun_2.reset_index(inplace=True, drop=True)\n",
    "df_fun_2.info()"
   ]
  },
  {
   "cell_type": "code",
   "execution_count": 41,
   "metadata": {},
   "outputs": [
    {
     "data": {
      "text/plain": [
       "2028850"
      ]
     },
     "execution_count": 41,
     "metadata": {},
     "output_type": "execute_result"
    }
   ],
   "source": [
    "df_fun_2['item_id'].max()"
   ]
  },
  {
   "cell_type": "markdown",
   "metadata": {},
   "source": [
    "Endpoint 3."
   ]
  },
  {
   "cell_type": "code",
   "execution_count": 54,
   "metadata": {},
   "outputs": [],
   "source": [
    "# Se extraen las columnas necesarias de sus respectivos dataframes.\n",
    "df_ju3 = df_juegos[['item_id', 'genres', 'release_year']]\n",
    "df_it3 = df_items[['item_id', 'user_id','playtime_forever']]\n",
    "\n",
    "# Se realiza el merge de las columnas extraídas.\n",
    "df_fun_3 = df_ju3.merge(df_it3, on='item_id', how='outer')\n",
    "\n",
    "# Se procesa el dataframe para reducir el uso de memoria.\n",
    "df_fun_3['release_year'] = df_fun_3['release_year'].fillna(0)\n",
    "# Se eliminan las filas que tienen valores iguales a cero en la columna \"playtime_forever\" ya que no se trata de años.\n",
    "df_fun_3 = df_fun_3[df_fun_3['playtime_forever'] != 0]\n",
    "df_fun_3['release_year'] = df_fun_3['release_year'].astype(np.int16)\n",
    "df_fun_3['playtime_forever'] = df_fun_3['playtime_forever'].fillna(0)\n",
    "# Se eliminan las filas que tienen valores iguales a cero en la columna \"playtime_forever\" ya que no son necesarios para la función.\n",
    "df_fun_3 = df_fun_3[df_fun_3['playtime_forever'] != 0]\n",
    "df_fun_3['playtime_forever'] = df_fun_3['playtime_forever'].astype(np.int16)"
   ]
  },
  {
   "cell_type": "code",
   "execution_count": 55,
   "metadata": {},
   "outputs": [
    {
     "name": "stdout",
     "output_type": "stream",
     "text": [
      "<class 'pandas.core.frame.DataFrame'>\n",
      "Index: 7181485 entries, 67 to 10630683\n",
      "Data columns (total 5 columns):\n",
      " #   Column            Dtype \n",
      "---  ------            ----- \n",
      " 0   item_id           object\n",
      " 1   genres            object\n",
      " 2   release_year      int16 \n",
      " 3   user_id           object\n",
      " 4   playtime_forever  int16 \n",
      "dtypes: int16(2), object(3)\n",
      "memory usage: 246.6+ MB\n"
     ]
    }
   ],
   "source": [
    "df_fun_3.info()"
   ]
  },
  {
   "cell_type": "markdown",
   "metadata": {},
   "source": [
    "Endpoint 4 y 5."
   ]
  },
  {
   "cell_type": "code",
   "execution_count": 37,
   "metadata": {},
   "outputs": [
    {
     "data": {
      "text/html": [
       "<div>\n",
       "<style scoped>\n",
       "    .dataframe tbody tr th:only-of-type {\n",
       "        vertical-align: middle;\n",
       "    }\n",
       "\n",
       "    .dataframe tbody tr th {\n",
       "        vertical-align: top;\n",
       "    }\n",
       "\n",
       "    .dataframe thead th {\n",
       "        text-align: right;\n",
       "    }\n",
       "</style>\n",
       "<table border=\"1\" class=\"dataframe\">\n",
       "  <thead>\n",
       "    <tr style=\"text-align: right;\">\n",
       "      <th></th>\n",
       "      <th>item_id</th>\n",
       "      <th>analisis_sentimiento</th>\n",
       "      <th>recommend</th>\n",
       "      <th>developer</th>\n",
       "      <th>release_year</th>\n",
       "    </tr>\n",
       "  </thead>\n",
       "  <tbody>\n",
       "    <tr>\n",
       "      <th>0</th>\n",
       "      <td>1250</td>\n",
       "      <td>2.0</td>\n",
       "      <td>True</td>\n",
       "      <td>tripwire interactive</td>\n",
       "      <td>2009.0</td>\n",
       "    </tr>\n",
       "    <tr>\n",
       "      <th>1</th>\n",
       "      <td>1250</td>\n",
       "      <td>2.0</td>\n",
       "      <td>True</td>\n",
       "      <td>tripwire interactive</td>\n",
       "      <td>2009.0</td>\n",
       "    </tr>\n",
       "    <tr>\n",
       "      <th>2</th>\n",
       "      <td>1250</td>\n",
       "      <td>0.0</td>\n",
       "      <td>True</td>\n",
       "      <td>tripwire interactive</td>\n",
       "      <td>2009.0</td>\n",
       "    </tr>\n",
       "    <tr>\n",
       "      <th>3</th>\n",
       "      <td>1250</td>\n",
       "      <td>1.0</td>\n",
       "      <td>True</td>\n",
       "      <td>tripwire interactive</td>\n",
       "      <td>2009.0</td>\n",
       "    </tr>\n",
       "    <tr>\n",
       "      <th>4</th>\n",
       "      <td>1250</td>\n",
       "      <td>1.0</td>\n",
       "      <td>True</td>\n",
       "      <td>tripwire interactive</td>\n",
       "      <td>2009.0</td>\n",
       "    </tr>\n",
       "  </tbody>\n",
       "</table>\n",
       "</div>"
      ],
      "text/plain": [
       "  item_id  analisis_sentimiento recommend             developer  release_year\n",
       "0    1250                   2.0      True  tripwire interactive        2009.0\n",
       "1    1250                   2.0      True  tripwire interactive        2009.0\n",
       "2    1250                   0.0      True  tripwire interactive        2009.0\n",
       "3    1250                   1.0      True  tripwire interactive        2009.0\n",
       "4    1250                   1.0      True  tripwire interactive        2009.0"
      ]
     },
     "execution_count": 37,
     "metadata": {},
     "output_type": "execute_result"
    }
   ],
   "source": [
    "# Se extraen las columnas necesarias de sus respectivos dataframes.\n",
    "df_juegos_4_5 = df_juegos[['item_id', 'developer', 'release_year']]\n",
    "df_resenias_4_5 = df_resenias[['item_id', 'analisis_sentimiento','recommend']]\n",
    "\n",
    "# Se realiza el merge de las columnas extraídas.\n",
    "df_fun_4_5 = df_resenias_4_5.merge(df_juegos_4_5, on='item_id', how='outer')\n",
    "df_fun_4_5.head()"
   ]
  },
  {
   "cell_type": "code",
   "execution_count": 38,
   "metadata": {},
   "outputs": [
    {
     "name": "stdout",
     "output_type": "stream",
     "text": [
      "<class 'pandas.core.frame.DataFrame'>\n",
      "RangeIndex: 179188 entries, 0 to 179187\n",
      "Data columns (total 5 columns):\n",
      " #   Column                Non-Null Count   Dtype  \n",
      "---  ------                --------------   -----  \n",
      " 0   item_id               179188 non-null  object \n",
      " 1   analisis_sentimiento  130764 non-null  float64\n",
      " 2   recommend             130764 non-null  object \n",
      " 3   developer             169095 non-null  object \n",
      " 4   release_year          169095 non-null  float64\n",
      "dtypes: float64(2), object(3)\n",
      "memory usage: 6.8+ MB\n"
     ]
    }
   ],
   "source": [
    "df_fun_4_5.info()"
   ]
  },
  {
   "cell_type": "markdown",
   "metadata": {},
   "source": [
    "### **Función 1**<br>\n",
    "**def developer( desarrollador : str )**: Cantidad de items y porcentaje de contenido Free por año según empresa desarrolladora.<br>\n"
   ]
  },
  {
   "cell_type": "code",
   "execution_count": null,
   "metadata": {},
   "outputs": [],
   "source": []
  },
  {
   "cell_type": "markdown",
   "metadata": {},
   "source": [
    "### **Función 2**<br>\n",
    "**def userdata( User_id : str )**: Debe devolver cantidad de dinero gastado por el usuario, el porcentaje de recomendación en base a reviews.recommend y cantidad de items.<br>\n",
    "Ejemplo de retorno: {\"Usuario X\" : us213ndjss09sdf, \"Dinero gastado\": 200 USD, \"% de recomendación\": 20%, \"cantidad de items\": 5}"
   ]
  },
  {
   "cell_type": "code",
   "execution_count": 21,
   "metadata": {},
   "outputs": [],
   "source": [
    "def userdata(user_id):\n",
    "    # Si el valor no es una cadena de texto se devuelve un mensaje de error.\n",
    "    if type(user_id) != str:\n",
    "        return 'Error: El valor ingresado debe ser una palabra'\n",
    "    # Se normaliza el valor convirtiéndolo a minúscula.\n",
    "    usuario = user_id.lower()\n",
    "\n",
    "    resenias_usuario = df_fun_2[(df_fun_2['user_id'] == user_id) & (df_fun_2['item_id'].isin(df_fun_2['item_id']))]\n",
    "\n",
    "    gasto = resenias_usuario['price'].sum()\n",
    "\n",
    "    if resenias_usuario['recommend'].sum() == 0:\n",
    "        porcentaje_recomendacion = 0\n",
    "    else:\n",
    "        porcentaje_recomendacion =  (resenias_usuario['recommend'].sum() / len(resenias_usuario)) * 100\n",
    "\n",
    "    conteo = df_fun_2[df_fun_2['user_id'] == usuario]\n",
    "    conteo_items = conteo.shape[0]\n",
    "\n",
    "    datos_usuario = {\n",
    "        \"User X\": user_id,\n",
    "        \"Dinero gastado\": f\"{gasto:.2f} USD\",\n",
    "        \"Porcentaje de recomendación\": f'{porcentaje_recomendacion}%',\n",
    "        \"Cantidad de items\": conteo_items\n",
    "        }\n",
    "    \n",
    "    return datos_usuario"
   ]
  },
  {
   "cell_type": "code",
   "execution_count": 22,
   "metadata": {},
   "outputs": [
    {
     "data": {
      "text/plain": [
       "{'User X': '76561198326700687',\n",
       " 'Dinero gastado': '375.83 USD',\n",
       " 'Porcentaje de recomendación': '0%',\n",
       " 'Cantidad de items': 177}"
      ]
     },
     "execution_count": 22,
     "metadata": {},
     "output_type": "execute_result"
    }
   ],
   "source": [
    "userdata('76561198326700687')"
   ]
  },
  {
   "cell_type": "markdown",
   "metadata": {},
   "source": [
    "### **Función 3**<br>\n",
    "**def UserForGenre( genero : str )**: Debe devolver el usuario que acumula más horas jugadas para el género dado y una lista de la acumulación de horas jugadas por año de lanzamiento.<br>\n",
    "Ejemplo de retorno: {\"Usuario con más horas jugadas para Género X\" : us213ndjss09sdf, \"Horas jugadas\":[{Año: 2013, Horas: 203}, {Año: 2012, Horas: 100}, {Año: 2011, Horas: 23}]}"
   ]
  },
  {
   "cell_type": "code",
   "execution_count": 52,
   "metadata": {},
   "outputs": [],
   "source": [
    "def User_For_Genre(genero):\n",
    "    # Se convierte la cadena de texto ingresada en minúscula.\n",
    "    genero_m = genero.lower()\n",
    "    \n",
    "    # Se corrobora que el valor ingresado esté dentro del dataframe.\n",
    "    df_genero = df_fun_3[df_fun_3[\"genres\"] == genero_m]\n",
    "\n",
    "    # Se genera una sumatoria de las horas jugadas por año.\n",
    "    df_horas_anuales = df_genero.groupby([\"release_year\"])[\"playtime_forever\"].sum()\n",
    "    df_horas_anuales = df_horas_anuales.reset_index()\n",
    "\n",
    "    # Se hace una sumatoria de las horas respecto al usuario.\n",
    "    df_horas = df_genero.groupby(\"user_id\")[\"playtime_forever\"].sum()\n",
    "    \n",
    "    # Se calcula el usuario con mayor cantidad de horas acumuladas.\n",
    "    top_horas = df_horas.idxmax()\n",
    "\n",
    "    df_horas_anuales = df_horas_anuales.rename(columns={\"release_year\": \"Año\", \"playtime_forever\": \"Horas\"})\n",
    "    horas_anuales = df_horas_anuales.to_dict(orient=\"records\")\n",
    "\n",
    "    return {f\"Usuario con más horas jugadas para género {genero}\": top_horas, \"Horas jugadas\": horas_anuales}"
   ]
  },
  {
   "cell_type": "code",
   "execution_count": 53,
   "metadata": {},
   "outputs": [
    {
     "data": {
      "text/plain": [
       "{'Usuario con más horas jugadas para género action': 'REBAS_AS_F-T',\n",
       " 'Horas jugadas': [{'Año': 1983, 'Horas': 3473},\n",
       "  {'Año': 1984, 'Horas': 384},\n",
       "  {'Año': 1988, 'Horas': 16001},\n",
       "  {'Año': 1989, 'Horas': 607},\n",
       "  {'Año': 1990, 'Horas': 18271},\n",
       "  {'Año': 1991, 'Horas': 2203},\n",
       "  {'Año': 1992, 'Horas': 1925},\n",
       "  {'Año': 1993, 'Horas': 23911},\n",
       "  {'Año': 1994, 'Horas': 119436},\n",
       "  {'Año': 1995, 'Horas': 209982},\n",
       "  {'Año': 1996, 'Horas': 66366},\n",
       "  {'Año': 1997, 'Horas': 358963},\n",
       "  {'Año': 1998, 'Horas': 2594564},\n",
       "  {'Año': 1999, 'Horas': 1975459},\n",
       "  {'Año': 2000, 'Horas': 5901456},\n",
       "  {'Año': 2001, 'Horas': 1064461},\n",
       "  {'Año': 2002, 'Horas': 701780},\n",
       "  {'Año': 2003, 'Horas': 7146588},\n",
       "  {'Año': 2004, 'Horas': 51262706},\n",
       "  {'Año': 2005, 'Horas': 10872722},\n",
       "  {'Año': 2006, 'Horas': 9497307},\n",
       "  {'Año': 2007, 'Horas': 16000711},\n",
       "  {'Año': 2008, 'Horas': 25343018},\n",
       "  {'Año': 2009, 'Horas': 108841258},\n",
       "  {'Año': 2010, 'Horas': 114405639},\n",
       "  {'Año': 2011, 'Horas': 211504009},\n",
       "  {'Año': 2012, 'Horas': 390856025},\n",
       "  {'Año': 2013, 'Horas': 222018248},\n",
       "  {'Año': 2014, 'Horas': 136314598},\n",
       "  {'Año': 2015, 'Horas': 178391337},\n",
       "  {'Año': 2016, 'Horas': 75792276},\n",
       "  {'Año': 2017, 'Horas': 84964497},\n",
       "  {'Año': 2018, 'Horas': 21}]}"
      ]
     },
     "execution_count": 53,
     "metadata": {},
     "output_type": "execute_result"
    }
   ],
   "source": [
    "UserForGenre('action')"
   ]
  },
  {
   "cell_type": "markdown",
   "metadata": {},
   "source": [
    "### **Función 4**<br>\n",
    "**def best_developer_year( año : int )**: Devuelve el top 3 de desarrolladores con juegos MÁS recomendados por usuarios para el año dado. (reviews.recommend = True y comentarios positivos).<br>\n",
    "Ejemplo de retorno: [{\"Puesto 1\" : X}, {\"Puesto 2\" : Y},{\"Puesto 3\" : Z}]\n",
    "\n"
   ]
  },
  {
   "cell_type": "code",
   "execution_count": null,
   "metadata": {},
   "outputs": [],
   "source": [
    "def best_developer_year(anio):\n",
    "\n",
    "    # Se corrobora que el input sea correcto.\n",
    "    if anio not in df_fun_4_5['release_year'].unique():\n",
    "        return f\"El año {anio} no existe en los registros.\"\n",
    "    \n",
    "    # Filtrar el dataset para obtener solo las filas correspondientes al año dado.\n",
    "    juegos_del_año = df_fun_4_5[df_fun_4_5['release_year'] == anio]\n",
    "\n",
    "    # Se calculan las reseñas por desarrolladora.\n",
    "    resenias = juegos_del_año.groupby('developer')['recommend'].sum().reset_index()\n",
    "\n",
    "    # Se ordenan los juegos mejor valorados en orden ascendente.\n",
    "    desarrolladoras = resenias.sort_values(by='recommend', ascending=False)\n",
    "\n",
    "    # Se ordenan los primeros tres puestos\n",
    "    oro = desarrolladoras.iloc[0]['developer']\n",
    "    plata = desarrolladoras.iloc[1]['developer']\n",
    "    bronce = desarrolladoras.iloc[2]['developer']\n",
    "\n",
    "    # Crear la lista de diccionarios con los tres primeros lugares\n",
    "    top3 = [{\"Puesto 1\": oro.title()}, {\"Puesto 2\": plata.title()}, {\"Puesto 3\": bronce.title()}]\n",
    "    return top3"
   ]
  },
  {
   "cell_type": "code",
   "execution_count": null,
   "metadata": {},
   "outputs": [
    {
     "name": "stdout",
     "output_type": "stream",
     "text": [
      "2008 : [{'Puesto 1': 'Rockstar New England'}, {'Puesto 2': 'Treyarch'}, {'Puesto 3': 'Cd Projekt Red'}]\n",
      "2009 : [{'Puesto 1': 'Valve'}, {'Puesto 2': 'Tripwire Interactive'}, {'Puesto 3': 'Dice'}]\n",
      "2010 : [{'Puesto 1': 'Taleworlds Entertainment'}, {'Puesto 2': 'Obsidian Entertainment'}, {'Puesto 3': 'Avalanche Studios'}]\n",
      "2011 : [{'Puesto 1': 'Re-Logic'}, {'Puesto 2': 'No More Room In Hell Team'}, {'Puesto 3': 'Valve'}]\n",
      "2012 : [{'Puesto 1': 'Valve'}, {'Puesto 2': 'Gearbox Software,Aspyr (Mac &Amp; Linux)'}, {'Puesto 3': 'Wild Shadow Studios'}]\n",
      "2013 : [{'Puesto 1': 'Facepunch Studios'}, {'Puesto 2': 'Bohemia Interactive'}, {'Puesto 3': 'Digital Extremes'}]\n",
      "2014 : [{'Puesto 1': 'Edge Of Reality'}, {'Puesto 2': 'Endnight Games Ltd'}, {'Puesto 3': 'Coffee Stain Studios'}]\n",
      "2015 : [{'Puesto 1': 'Psyonix, Inc.'}, {'Puesto 2': 'Kyle Seeley'}, {'Puesto 3': 'Trion Worlds'}]\n",
      "2016 : [{'Puesto 1': 'Chucklefish'}, {'Puesto 2': 'Reto-Moto'}, {'Puesto 3': 'Doubledutch Games'}]\n",
      "2017 : [{'Puesto 1': 'Smartly Dressed Games'}, {'Puesto 2': 'Freejam'}, {'Puesto 3': 'Studio Wildcard,Instinct Games,Efecto Studios,Virtual Basement Llc'}]\n",
      "2018 : [{'Puesto 1': 'Apillo'}, {'Puesto 2': 'Momostorm Entertainment'}, {'Puesto 3': 'Mp Game Studios'}]\n"
     ]
    }
   ],
   "source": [
    "for i in range(2008, 2019):\n",
    "    print(f'{i} : {best_developer_year(i)}')"
   ]
  },
  {
   "cell_type": "markdown",
   "metadata": {},
   "source": [
    "### **Función 5** <br>\n",
    "**def developer_reviews_analysis( desarrolladora : str )**: Según el desarrollador, se devuelve un diccionario con el nombre del desarrollador como llave y una lista con la cantidad total de registros de reseñas de usuarios que se encuentren categorizados con un análisis de sentimiento como valor positivo o negativo.<br>\n",
    "Ejemplo de retorno: {'Valve' : [Negative = 182, Positive = 278]}"
   ]
  },
  {
   "cell_type": "code",
   "execution_count": null,
   "metadata": {},
   "outputs": [],
   "source": [
    "def developer_reviews_analysis(desarrolladora):\n",
    "\n",
    "    # Si el valor no es una cadena de texto se devuelve un mensaje de error.\n",
    "    if type(desarrolladora) != str:\n",
    "        return 'Error: El valor ingresado debe ser una palabra'\n",
    "    \n",
    "    #Se convierten a minúscula los valores ingresados para compatibilizar con los valores de la columna 'developer'.\n",
    "    desarrollador = desarrolladora.lower()\n",
    "\n",
    "    #Se corrobora que el valor ingresado se encuentre en la columna.\n",
    "    desarrollador = df_fun_4_5[df_fun_4_5['developer'] == desarrollador]\n",
    "    \n",
    "    analisis = desarrollador['analisis_sentimiento']\n",
    "    # Se hace un conteo de las opiniones.\n",
    "    opinion = analisis.value_counts()\n",
    "\n",
    "    return {desarrolladora : list([f'Negative: {(opinion.get(0, 0))}', f'Positive: {(opinion.get(2, 0))}'])}"
   ]
  },
  {
   "cell_type": "code",
   "execution_count": null,
   "metadata": {},
   "outputs": [
    {
     "data": {
      "text/plain": [
       "{'Valve': ['Negative: 1058', 'Positive: 8028']}"
      ]
     },
     "execution_count": 13,
     "metadata": {},
     "output_type": "execute_result"
    }
   ],
   "source": [
    "developer_reviews_analysis('Valve')"
   ]
  },
  {
   "cell_type": "markdown",
   "metadata": {},
   "source": [
    "### Carga de datos.  \n",
    "Se guardan los datasets específicos de los enpoints en archivos en formato parquet para su posterior uso."
   ]
  },
  {
   "cell_type": "markdown",
   "metadata": {},
   "source": [
    "Endpoint 2"
   ]
  },
  {
   "cell_type": "code",
   "execution_count": 16,
   "metadata": {},
   "outputs": [],
   "source": [
    "table = pa.Table.from_pandas(df_fun_2)\n",
    "pq.write_table(table, 'df_fun_2.parquet')"
   ]
  },
  {
   "cell_type": "markdown",
   "metadata": {},
   "source": [
    "Endpoint 3."
   ]
  },
  {
   "cell_type": "code",
   "execution_count": 56,
   "metadata": {},
   "outputs": [],
   "source": [
    "table = pa.Table.from_pandas(df_fun_3)\n",
    "pq.write_table(table, 'df_fun_3.parquet')"
   ]
  },
  {
   "cell_type": "markdown",
   "metadata": {},
   "source": [
    "Endpoint 4 y 5"
   ]
  },
  {
   "cell_type": "code",
   "execution_count": 83,
   "metadata": {},
   "outputs": [],
   "source": [
    "table = pa.Table.from_pandas(df_fun_4_5)\n",
    "pq.write_table(table, 'df_fun_4_5.parquet')"
   ]
  }
 ],
 "metadata": {
  "kernelspec": {
   "display_name": "Python 3",
   "language": "python",
   "name": "python3"
  },
  "language_info": {
   "codemirror_mode": {
    "name": "ipython",
    "version": 3
   },
   "file_extension": ".py",
   "mimetype": "text/x-python",
   "name": "python",
   "nbconvert_exporter": "python",
   "pygments_lexer": "ipython3",
   "version": "3.11.9"
  }
 },
 "nbformat": 4,
 "nbformat_minor": 2
}
