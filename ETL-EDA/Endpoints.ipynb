{
 "cells": [
  {
   "cell_type": "markdown",
   "metadata": {},
   "source": [
    "# Endpoints"
   ]
  },
  {
   "cell_type": "code",
   "execution_count": 1,
   "metadata": {},
   "outputs": [],
   "source": [
    "import pandas as pd\n",
    "import numpy as np\n",
    "import pyarrow as pa\n",
    "import pyarrow.parquet as pq"
   ]
  },
  {
   "cell_type": "code",
   "execution_count": 2,
   "metadata": {},
   "outputs": [],
   "source": [
    "df_items = pd.read_parquet('C:\\\\Users\\\\fedez\\\\OneDrive\\\\Escritorio\\\\PI-MLOps\\\\Data\\\\items.parquet')\n",
    "df_juegos = pd.read_parquet('C:\\\\Users\\\\fedez\\\\OneDrive\\\\Escritorio\\\\PI-MLOps\\\\Data\\\\juegos.parquet')\n",
    "df_resenias = pd.read_parquet('C:\\\\Users\\\\fedez\\\\OneDrive\\\\Escritorio\\\\PI-MLOps\\\\Data\\\\resenias.parquet')"
   ]
  },
  {
   "cell_type": "code",
   "execution_count": 3,
   "metadata": {},
   "outputs": [
    {
     "data": {
      "text/html": [
       "<div>\n",
       "<style scoped>\n",
       "    .dataframe tbody tr th:only-of-type {\n",
       "        vertical-align: middle;\n",
       "    }\n",
       "\n",
       "    .dataframe tbody tr th {\n",
       "        vertical-align: top;\n",
       "    }\n",
       "\n",
       "    .dataframe thead th {\n",
       "        text-align: right;\n",
       "    }\n",
       "</style>\n",
       "<table border=\"1\" class=\"dataframe\">\n",
       "  <thead>\n",
       "    <tr style=\"text-align: right;\">\n",
       "      <th></th>\n",
       "      <th>user_id</th>\n",
       "      <th>items_count</th>\n",
       "      <th>item_id</th>\n",
       "      <th>playtime_forever</th>\n",
       "    </tr>\n",
       "  </thead>\n",
       "  <tbody>\n",
       "    <tr>\n",
       "      <th>3530879</th>\n",
       "      <td>76561197964050011</td>\n",
       "      <td>75</td>\n",
       "      <td>407530</td>\n",
       "      <td>0</td>\n",
       "    </tr>\n",
       "  </tbody>\n",
       "</table>\n",
       "</div>"
      ],
      "text/plain": [
       "                   user_id  items_count item_id  playtime_forever\n",
       "3530879  76561197964050011           75  407530                 0"
      ]
     },
     "execution_count": 3,
     "metadata": {},
     "output_type": "execute_result"
    }
   ],
   "source": [
    "df_items.sample()"
   ]
  },
  {
   "cell_type": "code",
   "execution_count": 4,
   "metadata": {},
   "outputs": [
    {
     "data": {
      "text/html": [
       "<div>\n",
       "<style scoped>\n",
       "    .dataframe tbody tr th:only-of-type {\n",
       "        vertical-align: middle;\n",
       "    }\n",
       "\n",
       "    .dataframe tbody tr th {\n",
       "        vertical-align: top;\n",
       "    }\n",
       "\n",
       "    .dataframe thead th {\n",
       "        text-align: right;\n",
       "    }\n",
       "</style>\n",
       "<table border=\"1\" class=\"dataframe\">\n",
       "  <thead>\n",
       "    <tr style=\"text-align: right;\">\n",
       "      <th></th>\n",
       "      <th>genres</th>\n",
       "      <th>title</th>\n",
       "      <th>price</th>\n",
       "      <th>id</th>\n",
       "      <th>developer</th>\n",
       "      <th>release_year</th>\n",
       "    </tr>\n",
       "  </thead>\n",
       "  <tbody>\n",
       "    <tr>\n",
       "      <th>20616</th>\n",
       "      <td>simulation</td>\n",
       "      <td>fidget spinner editor - expansion pack 2</td>\n",
       "      <td>0.99</td>\n",
       "      <td>737860</td>\n",
       "      <td>myarcadegames studios</td>\n",
       "      <td>2017</td>\n",
       "    </tr>\n",
       "  </tbody>\n",
       "</table>\n",
       "</div>"
      ],
      "text/plain": [
       "           genres                                     title  price      id  \\\n",
       "20616  simulation  fidget spinner editor - expansion pack 2   0.99  737860   \n",
       "\n",
       "                   developer  release_year  \n",
       "20616  myarcadegames studios          2017  "
      ]
     },
     "execution_count": 4,
     "metadata": {},
     "output_type": "execute_result"
    }
   ],
   "source": [
    "df_juegos.sample()"
   ]
  },
  {
   "cell_type": "code",
   "execution_count": 5,
   "metadata": {},
   "outputs": [
    {
     "data": {
      "text/html": [
       "<div>\n",
       "<style scoped>\n",
       "    .dataframe tbody tr th:only-of-type {\n",
       "        vertical-align: middle;\n",
       "    }\n",
       "\n",
       "    .dataframe tbody tr th {\n",
       "        vertical-align: top;\n",
       "    }\n",
       "\n",
       "    .dataframe thead th {\n",
       "        text-align: right;\n",
       "    }\n",
       "</style>\n",
       "<table border=\"1\" class=\"dataframe\">\n",
       "  <thead>\n",
       "    <tr style=\"text-align: right;\">\n",
       "      <th></th>\n",
       "      <th>user_id</th>\n",
       "      <th>item_id</th>\n",
       "      <th>recommend</th>\n",
       "      <th>analisis_sentimiento</th>\n",
       "    </tr>\n",
       "  </thead>\n",
       "  <tbody>\n",
       "    <tr>\n",
       "      <th>26597</th>\n",
       "      <td>76561198094460843</td>\n",
       "      <td>225540</td>\n",
       "      <td>True</td>\n",
       "      <td>1</td>\n",
       "    </tr>\n",
       "  </tbody>\n",
       "</table>\n",
       "</div>"
      ],
      "text/plain": [
       "                 user_id item_id  recommend  analisis_sentimiento\n",
       "26597  76561198094460843  225540       True                     1"
      ]
     },
     "execution_count": 5,
     "metadata": {},
     "output_type": "execute_result"
    }
   ],
   "source": [
    "df_resenias.sample()"
   ]
  },
  {
   "cell_type": "code",
   "execution_count": 6,
   "metadata": {},
   "outputs": [
    {
     "data": {
      "text/html": [
       "<div>\n",
       "<style scoped>\n",
       "    .dataframe tbody tr th:only-of-type {\n",
       "        vertical-align: middle;\n",
       "    }\n",
       "\n",
       "    .dataframe tbody tr th {\n",
       "        vertical-align: top;\n",
       "    }\n",
       "\n",
       "    .dataframe thead th {\n",
       "        text-align: right;\n",
       "    }\n",
       "</style>\n",
       "<table border=\"1\" class=\"dataframe\">\n",
       "  <thead>\n",
       "    <tr style=\"text-align: right;\">\n",
       "      <th></th>\n",
       "      <th>genres</th>\n",
       "      <th>title</th>\n",
       "      <th>price</th>\n",
       "      <th>item_id</th>\n",
       "      <th>developer</th>\n",
       "      <th>release_year</th>\n",
       "    </tr>\n",
       "  </thead>\n",
       "  <tbody>\n",
       "    <tr>\n",
       "      <th>42089</th>\n",
       "      <td>rpg</td>\n",
       "      <td>valens</td>\n",
       "      <td>7.99</td>\n",
       "      <td>441640</td>\n",
       "      <td>digitallion</td>\n",
       "      <td>2016</td>\n",
       "    </tr>\n",
       "  </tbody>\n",
       "</table>\n",
       "</div>"
      ],
      "text/plain": [
       "      genres   title  price item_id    developer  release_year\n",
       "42089    rpg  valens   7.99  441640  digitallion          2016"
      ]
     },
     "execution_count": 6,
     "metadata": {},
     "output_type": "execute_result"
    }
   ],
   "source": [
    "# Se cambia el nombre de la columna \"id\" por \"item_id\" para poder realizar el merge de los dataframes\n",
    "df_juegos.rename(columns={'id': 'item_id'}, inplace=True)\n",
    "df_juegos.sample()"
   ]
  },
  {
   "cell_type": "markdown",
   "metadata": {},
   "source": [
    "### **Función 1**<br>\n",
    "**def developer( desarrollador : str )**: Cantidad de items y porcentaje de contenido Free por año según empresa desarrolladora.<br>\n"
   ]
  },
  {
   "cell_type": "code",
   "execution_count": null,
   "metadata": {},
   "outputs": [],
   "source": []
  },
  {
   "cell_type": "markdown",
   "metadata": {},
   "source": [
    "### **Función 2**<br>\n",
    "**def userdata( User_id : str )**: Debe devolver cantidad de dinero gastado por el usuario, el porcentaje de recomendación en base a reviews.recommend y cantidad de items.<br>\n",
    "Ejemplo de retorno: {\"Usuario X\" : us213ndjss09sdf, \"Dinero gastado\": 200 USD, \"% de recomendación\": 20%, \"cantidad de items\": 5}"
   ]
  },
  {
   "cell_type": "code",
   "execution_count": null,
   "metadata": {},
   "outputs": [],
   "source": []
  },
  {
   "cell_type": "markdown",
   "metadata": {},
   "source": [
    "### **Función 3**<br>\n",
    "**def UserForGenre( genero : str )**: Debe devolver el usuario que acumula más horas jugadas para el género dado y una lista de la acumulación de horas jugadas por año de lanzamiento.<br>\n",
    "Ejemplo de retorno: {\"Usuario con más horas jugadas para Género X\" : us213ndjss09sdf, \"Horas jugadas\":[{Año: 2013, Horas: 203}, {Año: 2012, Horas: 100}, {Año: 2011, Horas: 23}]}"
   ]
  },
  {
   "cell_type": "code",
   "execution_count": 25,
   "metadata": {},
   "outputs": [],
   "source": [
    "df_ju3 = df_juegos[['item_id', 'genres', 'release_year']]\n",
    "df_it3 = df_items[['item_id', 'user_id','playtime_forever']]\n",
    "df_filtrado = df_it3[df_it3['playtime_forever'] != 0]\n",
    "df_1_3 = df_4 = df_ju3.merge(df_filtrado, on='item_id', how='outer')"
   ]
  },
  {
   "cell_type": "code",
   "execution_count": 26,
   "metadata": {},
   "outputs": [
    {
     "name": "stdout",
     "output_type": "stream",
     "text": [
      "<class 'pandas.core.frame.DataFrame'>\n",
      "RangeIndex: 7217835 entries, 0 to 7217834\n",
      "Data columns (total 5 columns):\n",
      " #   Column            Dtype  \n",
      "---  ------            -----  \n",
      " 0   item_id           object \n",
      " 1   genres            object \n",
      " 2   release_year      float64\n",
      " 3   user_id           object \n",
      " 4   playtime_forever  float64\n",
      "dtypes: float64(2), object(3)\n",
      "memory usage: 275.3+ MB\n"
     ]
    }
   ],
   "source": [
    "df_1_3.info()"
   ]
  },
  {
   "cell_type": "code",
   "execution_count": 8,
   "metadata": {},
   "outputs": [],
   "source": [
    "def UserForGenre(genero):\n",
    "    # Se convierte la cadena de texto ingresada en minúscula.\n",
    "    genero_m = genero.lower()\n",
    "    \n",
    "    # Se corrobora que el valor ingresado esté dentro del dataframe.\n",
    "    df_genero = df_fun_3[df_fun_3[\"genres\"] == genero_m]\n",
    "\n",
    "        # Se genera una sumatoria de las horas jugadas por año.\n",
    "    df_horas_anuales = df_genero.groupby([\"release_year\"])[\"playtime_forever\"].sum()\n",
    "    df_horas_anuales = df_horas_anuales.reset_index()\n",
    "\n",
    "    # Se hace una sumatoria de las horas respecto al usuario.\n",
    "    df_horas = df_genero.groupby(\"user_id\")[\"playtime_forever\"].sum()\n",
    "    \n",
    "    # Se calcula el usuario con mayor cantidad de horas acumuladas.\n",
    "    top_horas = df_horas.idxmax()\n",
    "\n",
    "    df_horas_anuales = df_horas_anuales.rename(columns={\"release_year\": \"Año\", \"playtime_forever\": \"Horas\"})\n",
    "    horas_anuales = df_horas_anuales.to_dict(orient=\"records\")\n",
    "\n",
    "    return {f\"Usuario con más horas jugadas para género {genero}\": top_horas, \"Horas jugadas\": horas_anuales}"
   ]
  },
  {
   "cell_type": "code",
   "execution_count": null,
   "metadata": {},
   "outputs": [],
   "source": []
  },
  {
   "cell_type": "markdown",
   "metadata": {},
   "source": [
    "### **Función 4**<br>\n",
    "**def best_developer_year( año : int )**: Devuelve el top 3 de desarrolladores con juegos MÁS recomendados por usuarios para el año dado. (reviews.recommend = True y comentarios positivos).<br>\n",
    "Ejemplo de retorno: [{\"Puesto 1\" : X}, {\"Puesto 2\" : Y},{\"Puesto 3\" : Z}]\n",
    "\n"
   ]
  },
  {
   "cell_type": "code",
   "execution_count": 31,
   "metadata": {},
   "outputs": [],
   "source": [
    "def best_developer_year(anio):\n",
    "\n",
    "    # Se extraen las columnas de df_resenias necesarias para el merge con df_juegos.\n",
    "    df_resenias4 = df_resenias[['item_id', 'recommend']]\n",
    "    df_juegos4 = df_juegos[['item_id', 'developer', 'release_year']]\n",
    "    df_fun_4 = df_juegos4.merge(df_resenias4, on='item_id', how='outer') \n",
    "\n",
    "    # Se corrobora que el input sea correcto.\n",
    "    if anio not in df_fun_4['release_year'].unique():\n",
    "        return f\"El año {anio} no existe en los registros.\"\n",
    "    \n",
    "    # Filtrar el dataset para obtener solo las filas correspondientes al año dado.\n",
    "    juegos_del_año = df_fun_4[df_fun_4['release_year'] == anio]\n",
    "\n",
    "    # Se calculan las reseñas por desarrolladora.\n",
    "    resenias = juegos_del_año.groupby('developer')['recommend'].sum().reset_index()\n",
    "\n",
    "    # Se ordenan los juegos mejor valorados en orden ascendente.\n",
    "    desarrolladoras = resenias.sort_values(by='recommend', ascending=False)\n",
    "\n",
    "    # Se ordenan los primeros tres puestos\n",
    "    oro = desarrolladoras.iloc[0]['developer']\n",
    "    plata = desarrolladoras.iloc[1]['developer']\n",
    "    bronce = desarrolladoras.iloc[2]['developer']\n",
    "\n",
    "    # Crear la lista de diccionarios con los tres primeros lugares\n",
    "    top3 = [{\"Puesto 1\": oro.title()}, {\"Puesto 2\": plata.title()}, {\"Puesto 3\": bronce.title()}]\n",
    "    return top3"
   ]
  },
  {
   "cell_type": "code",
   "execution_count": 44,
   "metadata": {},
   "outputs": [
    {
     "name": "stdout",
     "output_type": "stream",
     "text": [
      "2008 : [{'Puesto 1': 'Rockstar New England'}, {'Puesto 2': 'Treyarch'}, {'Puesto 3': 'Cd Projekt Red'}]\n",
      "2009 : [{'Puesto 1': 'Valve'}, {'Puesto 2': 'Tripwire Interactive'}, {'Puesto 3': 'Dice'}]\n",
      "2010 : [{'Puesto 1': 'Taleworlds Entertainment'}, {'Puesto 2': 'Obsidian Entertainment'}, {'Puesto 3': 'Avalanche Studios'}]\n",
      "2011 : [{'Puesto 1': 'Re-Logic'}, {'Puesto 2': 'No More Room In Hell Team'}, {'Puesto 3': 'Valve'}]\n",
      "2012 : [{'Puesto 1': 'Valve'}, {'Puesto 2': 'Gearbox Software,Aspyr (Mac &Amp; Linux)'}, {'Puesto 3': 'Wild Shadow Studios'}]\n",
      "2013 : [{'Puesto 1': 'Facepunch Studios'}, {'Puesto 2': 'Bohemia Interactive'}, {'Puesto 3': 'Digital Extremes'}]\n",
      "2014 : [{'Puesto 1': 'Edge Of Reality'}, {'Puesto 2': 'Endnight Games Ltd'}, {'Puesto 3': 'Coffee Stain Studios'}]\n",
      "2015 : [{'Puesto 1': 'Psyonix, Inc.'}, {'Puesto 2': 'Kyle Seeley'}, {'Puesto 3': 'Trion Worlds'}]\n",
      "2016 : [{'Puesto 1': 'Chucklefish'}, {'Puesto 2': 'Reto-Moto'}, {'Puesto 3': 'Doubledutch Games'}]\n",
      "2017 : [{'Puesto 1': 'Smartly Dressed Games'}, {'Puesto 2': 'Freejam'}, {'Puesto 3': 'Studio Wildcard,Instinct Games,Efecto Studios,Virtual Basement Llc'}]\n",
      "2018 : [{'Puesto 1': 'Apillo'}, {'Puesto 2': 'Momostorm Entertainment'}, {'Puesto 3': 'Mp Game Studios'}]\n"
     ]
    }
   ],
   "source": [
    "for i in range(2008, 2019):\n",
    "    print(f'{i} : {best_developer_year(i)}')"
   ]
  },
  {
   "cell_type": "markdown",
   "metadata": {},
   "source": [
    "### **Función 5** <br>\n",
    "**def developer_reviews_analysis( desarrolladora : str )**: Según el desarrollador, se devuelve un diccionario con el nombre del desarrollador como llave y una lista con la cantidad total de registros de reseñas de usuarios que se encuentren categorizados con un análisis de sentimiento como valor positivo o negativo.<br>\n",
    "Ejemplo de retorno: {'Valve' : [Negative = 182, Positive = 278]}"
   ]
  },
  {
   "cell_type": "code",
   "execution_count": 15,
   "metadata": {},
   "outputs": [],
   "source": [
    "def developer_reviews_analysis(desarrolladora):\n",
    "\n",
    "    # Se realiza un merge de las columnas necesarias de \"df_juegos\" y \"df_resenias\"\n",
    "    df_juegos5 = df_juegos[['item_id', 'developer']]\n",
    "    df_resenias5 = df_resenias[['item_id', 'analisis_sentimiento']]\n",
    "    df_fun_5 = df_resenias5.merge(df_juegos5, on='item_id', how='outer')\n",
    "\n",
    "    # Si el valor no es una cadena de texto se devuelve un mensaje de error.\n",
    "    if type(desarrolladora) != str:\n",
    "        return 'Error: El valor ingresado debe ser una palabra'\n",
    "    \n",
    "    #Se convierten a minúscula los valores ingresados para compatibilizar con los valores de la columna 'developer'.\n",
    "    desarrollador = desarrolladora.lower()\n",
    "\n",
    "    #Se corrobora que el valor ingresado se encuentre en la columna.\n",
    "    desarrollador = df_fun_5[df_fun_5['developer'] == desarrollador]\n",
    "    \n",
    "    analisis = desarrollador['analisis_sentimiento']\n",
    "    # Se hace un conteo de las opiniones.\n",
    "    opinion = analisis.value_counts()\n",
    "\n",
    "    return {desarrolladora : list([f'Negative: {(opinion.get(0, 0))}', f'Positive: {(opinion.get(2, 0))}'])}"
   ]
  },
  {
   "cell_type": "code",
   "execution_count": 16,
   "metadata": {},
   "outputs": [
    {
     "data": {
      "text/plain": [
       "{'Valve': ['Negative: 1058', 'Positive: 8028']}"
      ]
     },
     "execution_count": 16,
     "metadata": {},
     "output_type": "execute_result"
    }
   ],
   "source": [
    "developer_reviews_analysis('Valve')"
   ]
  }
 ],
 "metadata": {
  "kernelspec": {
   "display_name": "Python 3",
   "language": "python",
   "name": "python3"
  },
  "language_info": {
   "codemirror_mode": {
    "name": "ipython",
    "version": 3
   },
   "file_extension": ".py",
   "mimetype": "text/x-python",
   "name": "python",
   "nbconvert_exporter": "python",
   "pygments_lexer": "ipython3",
   "version": "3.11.9"
  }
 },
 "nbformat": 4,
 "nbformat_minor": 2
}
