{
 "cells": [
  {
   "cell_type": "markdown",
   "metadata": {},
   "source": [
    "# ETL - Steam games"
   ]
  },
  {
   "cell_type": "code",
   "execution_count": 4,
   "metadata": {},
   "outputs": [],
   "source": [
    "#Se importan las librerías a necesarias.\n",
    "import pandas as pd\n",
    "import numpy as np\n",
    "import json\n",
    "import pyarrow as pa\n",
    "import pyarrow.parquet as pq\n",
    "import gzip"
   ]
  },
  {
   "cell_type": "markdown",
   "metadata": {},
   "source": [
    "### Extracción de datos"
   ]
  },
  {
   "cell_type": "code",
   "execution_count": 6,
   "metadata": {},
   "outputs": [],
   "source": [
    "juegos_json = 'C:\\\\Users\\\\fedez\\\\OneDrive\\\\Escritorio\\\\PI-MLOps\\\\Datasets\\\\Raw\\\\steam_games.json.gz'\n",
    "#Se genera una lista vacía para almacenar los datos en ella.\n",
    "juegos = []\n",
    "with gzip.open(juegos_json, 'rb') as archivo:\n",
    "    #Se crea un loop para ir incorporando los elementos a la lista.\n",
    "    for linea in archivo:\n",
    "        data= json.loads(linea)\n",
    "        juegos.append(data)"
   ]
  },
  {
   "cell_type": "code",
   "execution_count": 3,
   "metadata": {},
   "outputs": [],
   "source": [
    "# Se crea un dataframe a partir del contenido del archivo.\n",
    "df_juegos = pd.DataFrame(juegos)"
   ]
  },
  {
   "cell_type": "code",
   "execution_count": 4,
   "metadata": {},
   "outputs": [
    {
     "name": "stdout",
     "output_type": "stream",
     "text": [
      "<class 'pandas.core.frame.DataFrame'>\n",
      "RangeIndex: 120445 entries, 0 to 120444\n",
      "Data columns (total 13 columns):\n",
      " #   Column        Non-Null Count  Dtype \n",
      "---  ------        --------------  ----- \n",
      " 0   publisher     24083 non-null  object\n",
      " 1   genres        28852 non-null  object\n",
      " 2   app_name      32133 non-null  object\n",
      " 3   title         30085 non-null  object\n",
      " 4   url           32135 non-null  object\n",
      " 5   release_date  30068 non-null  object\n",
      " 6   tags          31972 non-null  object\n",
      " 7   reviews_url   32133 non-null  object\n",
      " 8   specs         31465 non-null  object\n",
      " 9   price         30758 non-null  object\n",
      " 10  early_access  32135 non-null  object\n",
      " 11  id            32133 non-null  object\n",
      " 12  developer     28836 non-null  object\n",
      "dtypes: object(13)\n",
      "memory usage: 11.9+ MB\n"
     ]
    }
   ],
   "source": [
    "df_juegos.info()"
   ]
  },
  {
   "cell_type": "markdown",
   "metadata": {},
   "source": [
    "### Eliminación de valores nulos"
   ]
  },
  {
   "cell_type": "code",
   "execution_count": 5,
   "metadata": {},
   "outputs": [
    {
     "data": {
      "text/html": [
       "<div>\n",
       "<style scoped>\n",
       "    .dataframe tbody tr th:only-of-type {\n",
       "        vertical-align: middle;\n",
       "    }\n",
       "\n",
       "    .dataframe tbody tr th {\n",
       "        vertical-align: top;\n",
       "    }\n",
       "\n",
       "    .dataframe thead th {\n",
       "        text-align: right;\n",
       "    }\n",
       "</style>\n",
       "<table border=\"1\" class=\"dataframe\">\n",
       "  <thead>\n",
       "    <tr style=\"text-align: right;\">\n",
       "      <th></th>\n",
       "      <th>publisher</th>\n",
       "      <th>genres</th>\n",
       "      <th>app_name</th>\n",
       "      <th>title</th>\n",
       "      <th>url</th>\n",
       "      <th>release_date</th>\n",
       "      <th>tags</th>\n",
       "      <th>reviews_url</th>\n",
       "      <th>specs</th>\n",
       "      <th>price</th>\n",
       "      <th>early_access</th>\n",
       "      <th>id</th>\n",
       "      <th>developer</th>\n",
       "    </tr>\n",
       "  </thead>\n",
       "  <tbody>\n",
       "    <tr>\n",
       "      <th>0</th>\n",
       "      <td>NaN</td>\n",
       "      <td>NaN</td>\n",
       "      <td>NaN</td>\n",
       "      <td>NaN</td>\n",
       "      <td>NaN</td>\n",
       "      <td>NaN</td>\n",
       "      <td>NaN</td>\n",
       "      <td>NaN</td>\n",
       "      <td>NaN</td>\n",
       "      <td>NaN</td>\n",
       "      <td>NaN</td>\n",
       "      <td>NaN</td>\n",
       "      <td>NaN</td>\n",
       "    </tr>\n",
       "    <tr>\n",
       "      <th>1</th>\n",
       "      <td>NaN</td>\n",
       "      <td>NaN</td>\n",
       "      <td>NaN</td>\n",
       "      <td>NaN</td>\n",
       "      <td>NaN</td>\n",
       "      <td>NaN</td>\n",
       "      <td>NaN</td>\n",
       "      <td>NaN</td>\n",
       "      <td>NaN</td>\n",
       "      <td>NaN</td>\n",
       "      <td>NaN</td>\n",
       "      <td>NaN</td>\n",
       "      <td>NaN</td>\n",
       "    </tr>\n",
       "    <tr>\n",
       "      <th>2</th>\n",
       "      <td>NaN</td>\n",
       "      <td>NaN</td>\n",
       "      <td>NaN</td>\n",
       "      <td>NaN</td>\n",
       "      <td>NaN</td>\n",
       "      <td>NaN</td>\n",
       "      <td>NaN</td>\n",
       "      <td>NaN</td>\n",
       "      <td>NaN</td>\n",
       "      <td>NaN</td>\n",
       "      <td>NaN</td>\n",
       "      <td>NaN</td>\n",
       "      <td>NaN</td>\n",
       "    </tr>\n",
       "    <tr>\n",
       "      <th>3</th>\n",
       "      <td>NaN</td>\n",
       "      <td>NaN</td>\n",
       "      <td>NaN</td>\n",
       "      <td>NaN</td>\n",
       "      <td>NaN</td>\n",
       "      <td>NaN</td>\n",
       "      <td>NaN</td>\n",
       "      <td>NaN</td>\n",
       "      <td>NaN</td>\n",
       "      <td>NaN</td>\n",
       "      <td>NaN</td>\n",
       "      <td>NaN</td>\n",
       "      <td>NaN</td>\n",
       "    </tr>\n",
       "    <tr>\n",
       "      <th>4</th>\n",
       "      <td>NaN</td>\n",
       "      <td>NaN</td>\n",
       "      <td>NaN</td>\n",
       "      <td>NaN</td>\n",
       "      <td>NaN</td>\n",
       "      <td>NaN</td>\n",
       "      <td>NaN</td>\n",
       "      <td>NaN</td>\n",
       "      <td>NaN</td>\n",
       "      <td>NaN</td>\n",
       "      <td>NaN</td>\n",
       "      <td>NaN</td>\n",
       "      <td>NaN</td>\n",
       "    </tr>\n",
       "    <tr>\n",
       "      <th>...</th>\n",
       "      <td>...</td>\n",
       "      <td>...</td>\n",
       "      <td>...</td>\n",
       "      <td>...</td>\n",
       "      <td>...</td>\n",
       "      <td>...</td>\n",
       "      <td>...</td>\n",
       "      <td>...</td>\n",
       "      <td>...</td>\n",
       "      <td>...</td>\n",
       "      <td>...</td>\n",
       "      <td>...</td>\n",
       "      <td>...</td>\n",
       "    </tr>\n",
       "    <tr>\n",
       "      <th>120440</th>\n",
       "      <td>Ghost_RUS Games</td>\n",
       "      <td>[Casual, Indie, Simulation, Strategy]</td>\n",
       "      <td>Colony On Mars</td>\n",
       "      <td>Colony On Mars</td>\n",
       "      <td>http://store.steampowered.com/app/773640/Colon...</td>\n",
       "      <td>2018-01-04</td>\n",
       "      <td>[Strategy, Indie, Casual, Simulation]</td>\n",
       "      <td>http://steamcommunity.com/app/773640/reviews/?...</td>\n",
       "      <td>[Single-player, Steam Achievements]</td>\n",
       "      <td>1.99</td>\n",
       "      <td>False</td>\n",
       "      <td>773640</td>\n",
       "      <td>Nikita \"Ghost_RUS\"</td>\n",
       "    </tr>\n",
       "    <tr>\n",
       "      <th>120441</th>\n",
       "      <td>Sacada</td>\n",
       "      <td>[Casual, Indie, Strategy]</td>\n",
       "      <td>LOGistICAL: South Africa</td>\n",
       "      <td>LOGistICAL: South Africa</td>\n",
       "      <td>http://store.steampowered.com/app/733530/LOGis...</td>\n",
       "      <td>2018-01-04</td>\n",
       "      <td>[Strategy, Indie, Casual]</td>\n",
       "      <td>http://steamcommunity.com/app/733530/reviews/?...</td>\n",
       "      <td>[Single-player, Steam Achievements, Steam Clou...</td>\n",
       "      <td>4.99</td>\n",
       "      <td>False</td>\n",
       "      <td>733530</td>\n",
       "      <td>Sacada</td>\n",
       "    </tr>\n",
       "    <tr>\n",
       "      <th>120442</th>\n",
       "      <td>Laush Studio</td>\n",
       "      <td>[Indie, Racing, Simulation]</td>\n",
       "      <td>Russian Roads</td>\n",
       "      <td>Russian Roads</td>\n",
       "      <td>http://store.steampowered.com/app/610660/Russi...</td>\n",
       "      <td>2018-01-04</td>\n",
       "      <td>[Indie, Simulation, Racing]</td>\n",
       "      <td>http://steamcommunity.com/app/610660/reviews/?...</td>\n",
       "      <td>[Single-player, Steam Achievements, Steam Trad...</td>\n",
       "      <td>1.99</td>\n",
       "      <td>False</td>\n",
       "      <td>610660</td>\n",
       "      <td>Laush Dmitriy Sergeevich</td>\n",
       "    </tr>\n",
       "    <tr>\n",
       "      <th>120443</th>\n",
       "      <td>SIXNAILS</td>\n",
       "      <td>[Casual, Indie]</td>\n",
       "      <td>EXIT 2 - Directions</td>\n",
       "      <td>EXIT 2 - Directions</td>\n",
       "      <td>http://store.steampowered.com/app/658870/EXIT_...</td>\n",
       "      <td>2017-09-02</td>\n",
       "      <td>[Indie, Casual, Puzzle, Singleplayer, Atmosphe...</td>\n",
       "      <td>http://steamcommunity.com/app/658870/reviews/?...</td>\n",
       "      <td>[Single-player, Steam Achievements, Steam Cloud]</td>\n",
       "      <td>4.99</td>\n",
       "      <td>False</td>\n",
       "      <td>658870</td>\n",
       "      <td>xropi,stev3ns</td>\n",
       "    </tr>\n",
       "    <tr>\n",
       "      <th>120444</th>\n",
       "      <td>NaN</td>\n",
       "      <td>NaN</td>\n",
       "      <td>Maze Run VR</td>\n",
       "      <td>NaN</td>\n",
       "      <td>http://store.steampowered.com/app/681550/Maze_...</td>\n",
       "      <td>NaN</td>\n",
       "      <td>[Early Access, Adventure, Indie, Action, Simul...</td>\n",
       "      <td>http://steamcommunity.com/app/681550/reviews/?...</td>\n",
       "      <td>[Single-player, Stats, Steam Leaderboards, HTC...</td>\n",
       "      <td>4.99</td>\n",
       "      <td>True</td>\n",
       "      <td>681550</td>\n",
       "      <td>NaN</td>\n",
       "    </tr>\n",
       "  </tbody>\n",
       "</table>\n",
       "<p>120445 rows × 13 columns</p>\n",
       "</div>"
      ],
      "text/plain": [
       "              publisher                                 genres  \\\n",
       "0                   NaN                                    NaN   \n",
       "1                   NaN                                    NaN   \n",
       "2                   NaN                                    NaN   \n",
       "3                   NaN                                    NaN   \n",
       "4                   NaN                                    NaN   \n",
       "...                 ...                                    ...   \n",
       "120440  Ghost_RUS Games  [Casual, Indie, Simulation, Strategy]   \n",
       "120441           Sacada              [Casual, Indie, Strategy]   \n",
       "120442     Laush Studio            [Indie, Racing, Simulation]   \n",
       "120443         SIXNAILS                        [Casual, Indie]   \n",
       "120444              NaN                                    NaN   \n",
       "\n",
       "                        app_name                     title  \\\n",
       "0                            NaN                       NaN   \n",
       "1                            NaN                       NaN   \n",
       "2                            NaN                       NaN   \n",
       "3                            NaN                       NaN   \n",
       "4                            NaN                       NaN   \n",
       "...                          ...                       ...   \n",
       "120440            Colony On Mars            Colony On Mars   \n",
       "120441  LOGistICAL: South Africa  LOGistICAL: South Africa   \n",
       "120442             Russian Roads             Russian Roads   \n",
       "120443       EXIT 2 - Directions       EXIT 2 - Directions   \n",
       "120444               Maze Run VR                       NaN   \n",
       "\n",
       "                                                      url release_date  \\\n",
       "0                                                     NaN          NaN   \n",
       "1                                                     NaN          NaN   \n",
       "2                                                     NaN          NaN   \n",
       "3                                                     NaN          NaN   \n",
       "4                                                     NaN          NaN   \n",
       "...                                                   ...          ...   \n",
       "120440  http://store.steampowered.com/app/773640/Colon...   2018-01-04   \n",
       "120441  http://store.steampowered.com/app/733530/LOGis...   2018-01-04   \n",
       "120442  http://store.steampowered.com/app/610660/Russi...   2018-01-04   \n",
       "120443  http://store.steampowered.com/app/658870/EXIT_...   2017-09-02   \n",
       "120444  http://store.steampowered.com/app/681550/Maze_...          NaN   \n",
       "\n",
       "                                                     tags  \\\n",
       "0                                                     NaN   \n",
       "1                                                     NaN   \n",
       "2                                                     NaN   \n",
       "3                                                     NaN   \n",
       "4                                                     NaN   \n",
       "...                                                   ...   \n",
       "120440              [Strategy, Indie, Casual, Simulation]   \n",
       "120441                          [Strategy, Indie, Casual]   \n",
       "120442                        [Indie, Simulation, Racing]   \n",
       "120443  [Indie, Casual, Puzzle, Singleplayer, Atmosphe...   \n",
       "120444  [Early Access, Adventure, Indie, Action, Simul...   \n",
       "\n",
       "                                              reviews_url  \\\n",
       "0                                                     NaN   \n",
       "1                                                     NaN   \n",
       "2                                                     NaN   \n",
       "3                                                     NaN   \n",
       "4                                                     NaN   \n",
       "...                                                   ...   \n",
       "120440  http://steamcommunity.com/app/773640/reviews/?...   \n",
       "120441  http://steamcommunity.com/app/733530/reviews/?...   \n",
       "120442  http://steamcommunity.com/app/610660/reviews/?...   \n",
       "120443  http://steamcommunity.com/app/658870/reviews/?...   \n",
       "120444  http://steamcommunity.com/app/681550/reviews/?...   \n",
       "\n",
       "                                                    specs price early_access  \\\n",
       "0                                                     NaN   NaN          NaN   \n",
       "1                                                     NaN   NaN          NaN   \n",
       "2                                                     NaN   NaN          NaN   \n",
       "3                                                     NaN   NaN          NaN   \n",
       "4                                                     NaN   NaN          NaN   \n",
       "...                                                   ...   ...          ...   \n",
       "120440                [Single-player, Steam Achievements]  1.99        False   \n",
       "120441  [Single-player, Steam Achievements, Steam Clou...  4.99        False   \n",
       "120442  [Single-player, Steam Achievements, Steam Trad...  1.99        False   \n",
       "120443   [Single-player, Steam Achievements, Steam Cloud]  4.99        False   \n",
       "120444  [Single-player, Stats, Steam Leaderboards, HTC...  4.99         True   \n",
       "\n",
       "            id                 developer  \n",
       "0          NaN                       NaN  \n",
       "1          NaN                       NaN  \n",
       "2          NaN                       NaN  \n",
       "3          NaN                       NaN  \n",
       "4          NaN                       NaN  \n",
       "...        ...                       ...  \n",
       "120440  773640        Nikita \"Ghost_RUS\"  \n",
       "120441  733530                    Sacada  \n",
       "120442  610660  Laush Dmitriy Sergeevich  \n",
       "120443  658870             xropi,stev3ns  \n",
       "120444  681550                       NaN  \n",
       "\n",
       "[120445 rows x 13 columns]"
      ]
     },
     "execution_count": 5,
     "metadata": {},
     "output_type": "execute_result"
    }
   ],
   "source": [
    "df_juegos"
   ]
  },
  {
   "cell_type": "code",
   "execution_count": 6,
   "metadata": {},
   "outputs": [
    {
     "name": "stdout",
     "output_type": "stream",
     "text": [
      "<class 'pandas.core.frame.DataFrame'>\n",
      "RangeIndex: 120445 entries, 0 to 120444\n",
      "Data columns (total 13 columns):\n",
      " #   Column        Non-Null Count  Dtype \n",
      "---  ------        --------------  ----- \n",
      " 0   publisher     24083 non-null  object\n",
      " 1   genres        28852 non-null  object\n",
      " 2   app_name      32133 non-null  object\n",
      " 3   title         30085 non-null  object\n",
      " 4   url           32135 non-null  object\n",
      " 5   release_date  30068 non-null  object\n",
      " 6   tags          31972 non-null  object\n",
      " 7   reviews_url   32133 non-null  object\n",
      " 8   specs         31465 non-null  object\n",
      " 9   price         30758 non-null  object\n",
      " 10  early_access  32135 non-null  object\n",
      " 11  id            32133 non-null  object\n",
      " 12  developer     28836 non-null  object\n",
      "dtypes: object(13)\n",
      "memory usage: 11.9+ MB\n"
     ]
    }
   ],
   "source": [
    "df_juegos.info()"
   ]
  },
  {
   "cell_type": "code",
   "execution_count": 7,
   "metadata": {},
   "outputs": [],
   "source": [
    "#Se eliminan las filas con valores nulos.\n",
    "juegos_sin_nulos = df_juegos.dropna()"
   ]
  },
  {
   "cell_type": "markdown",
   "metadata": {},
   "source": [
    "### Eliminación de columnas innecesarias."
   ]
  },
  {
   "cell_type": "code",
   "execution_count": 8,
   "metadata": {},
   "outputs": [
    {
     "data": {
      "text/html": [
       "<div>\n",
       "<style scoped>\n",
       "    .dataframe tbody tr th:only-of-type {\n",
       "        vertical-align: middle;\n",
       "    }\n",
       "\n",
       "    .dataframe tbody tr th {\n",
       "        vertical-align: top;\n",
       "    }\n",
       "\n",
       "    .dataframe thead th {\n",
       "        text-align: right;\n",
       "    }\n",
       "</style>\n",
       "<table border=\"1\" class=\"dataframe\">\n",
       "  <thead>\n",
       "    <tr style=\"text-align: right;\">\n",
       "      <th></th>\n",
       "      <th>publisher</th>\n",
       "      <th>genres</th>\n",
       "      <th>app_name</th>\n",
       "      <th>title</th>\n",
       "      <th>url</th>\n",
       "      <th>release_date</th>\n",
       "      <th>tags</th>\n",
       "      <th>reviews_url</th>\n",
       "      <th>specs</th>\n",
       "      <th>price</th>\n",
       "      <th>early_access</th>\n",
       "      <th>id</th>\n",
       "      <th>developer</th>\n",
       "    </tr>\n",
       "  </thead>\n",
       "  <tbody>\n",
       "    <tr>\n",
       "      <th>88310</th>\n",
       "      <td>Kotoshiro</td>\n",
       "      <td>[Action, Casual, Indie, Simulation, Strategy]</td>\n",
       "      <td>Lost Summoner Kitty</td>\n",
       "      <td>Lost Summoner Kitty</td>\n",
       "      <td>http://store.steampowered.com/app/761140/Lost_...</td>\n",
       "      <td>2018-01-04</td>\n",
       "      <td>[Strategy, Action, Indie, Casual, Simulation]</td>\n",
       "      <td>http://steamcommunity.com/app/761140/reviews/?...</td>\n",
       "      <td>[Single-player]</td>\n",
       "      <td>4.99</td>\n",
       "      <td>False</td>\n",
       "      <td>761140</td>\n",
       "      <td>Kotoshiro</td>\n",
       "    </tr>\n",
       "  </tbody>\n",
       "</table>\n",
       "</div>"
      ],
      "text/plain": [
       "       publisher                                         genres  \\\n",
       "88310  Kotoshiro  [Action, Casual, Indie, Simulation, Strategy]   \n",
       "\n",
       "                  app_name                title  \\\n",
       "88310  Lost Summoner Kitty  Lost Summoner Kitty   \n",
       "\n",
       "                                                     url release_date  \\\n",
       "88310  http://store.steampowered.com/app/761140/Lost_...   2018-01-04   \n",
       "\n",
       "                                                tags  \\\n",
       "88310  [Strategy, Action, Indie, Casual, Simulation]   \n",
       "\n",
       "                                             reviews_url            specs  \\\n",
       "88310  http://steamcommunity.com/app/761140/reviews/?...  [Single-player]   \n",
       "\n",
       "      price early_access      id  developer  \n",
       "88310  4.99        False  761140  Kotoshiro  "
      ]
     },
     "execution_count": 8,
     "metadata": {},
     "output_type": "execute_result"
    }
   ],
   "source": [
    "juegos_sin_nulos.head(1)"
   ]
  },
  {
   "cell_type": "code",
   "execution_count": 9,
   "metadata": {},
   "outputs": [],
   "source": [
    "# Se procede a eliminar las columnas \"publisher\", \"app_name\", \"url\", \"specs\", \"early_access\", \"tags\" y \"reviews_url\" \n",
    "#  ya que no son necesarias para las funciones a desarrollar o poseen valores que ya están presentes en otras columnas.\n",
    "df_juegos = juegos_sin_nulos.drop(['publisher', 'app_name', 'url', 'specs', 'early_access', 'tags', 'reviews_url'], axis=1)"
   ]
  },
  {
   "cell_type": "code",
   "execution_count": 10,
   "metadata": {},
   "outputs": [
    {
     "data": {
      "text/html": [
       "<div>\n",
       "<style scoped>\n",
       "    .dataframe tbody tr th:only-of-type {\n",
       "        vertical-align: middle;\n",
       "    }\n",
       "\n",
       "    .dataframe tbody tr th {\n",
       "        vertical-align: top;\n",
       "    }\n",
       "\n",
       "    .dataframe thead th {\n",
       "        text-align: right;\n",
       "    }\n",
       "</style>\n",
       "<table border=\"1\" class=\"dataframe\">\n",
       "  <thead>\n",
       "    <tr style=\"text-align: right;\">\n",
       "      <th></th>\n",
       "      <th>genres</th>\n",
       "      <th>title</th>\n",
       "      <th>release_date</th>\n",
       "      <th>price</th>\n",
       "      <th>id</th>\n",
       "      <th>developer</th>\n",
       "    </tr>\n",
       "  </thead>\n",
       "  <tbody>\n",
       "    <tr>\n",
       "      <th>88310</th>\n",
       "      <td>[Action, Casual, Indie, Simulation, Strategy]</td>\n",
       "      <td>Lost Summoner Kitty</td>\n",
       "      <td>2018-01-04</td>\n",
       "      <td>4.99</td>\n",
       "      <td>761140</td>\n",
       "      <td>Kotoshiro</td>\n",
       "    </tr>\n",
       "    <tr>\n",
       "      <th>88311</th>\n",
       "      <td>[Free to Play, Indie, RPG, Strategy]</td>\n",
       "      <td>Ironbound</td>\n",
       "      <td>2018-01-04</td>\n",
       "      <td>Free To Play</td>\n",
       "      <td>643980</td>\n",
       "      <td>Secret Level SRL</td>\n",
       "    </tr>\n",
       "    <tr>\n",
       "      <th>88312</th>\n",
       "      <td>[Casual, Free to Play, Indie, Simulation, Sports]</td>\n",
       "      <td>Real Pool 3D - Poolians</td>\n",
       "      <td>2017-07-24</td>\n",
       "      <td>Free to Play</td>\n",
       "      <td>670290</td>\n",
       "      <td>Poolians.com</td>\n",
       "    </tr>\n",
       "    <tr>\n",
       "      <th>88313</th>\n",
       "      <td>[Action, Adventure, Casual]</td>\n",
       "      <td>弹炸人2222</td>\n",
       "      <td>2017-12-07</td>\n",
       "      <td>0.99</td>\n",
       "      <td>767400</td>\n",
       "      <td>彼岸领域</td>\n",
       "    </tr>\n",
       "    <tr>\n",
       "      <th>88315</th>\n",
       "      <td>[Action, Adventure, Simulation]</td>\n",
       "      <td>Battle Royale Trainer</td>\n",
       "      <td>2018-01-04</td>\n",
       "      <td>3.99</td>\n",
       "      <td>772540</td>\n",
       "      <td>Trickjump Games Ltd</td>\n",
       "    </tr>\n",
       "  </tbody>\n",
       "</table>\n",
       "</div>"
      ],
      "text/plain": [
       "                                                  genres  \\\n",
       "88310      [Action, Casual, Indie, Simulation, Strategy]   \n",
       "88311               [Free to Play, Indie, RPG, Strategy]   \n",
       "88312  [Casual, Free to Play, Indie, Simulation, Sports]   \n",
       "88313                        [Action, Adventure, Casual]   \n",
       "88315                    [Action, Adventure, Simulation]   \n",
       "\n",
       "                         title release_date         price      id  \\\n",
       "88310      Lost Summoner Kitty   2018-01-04          4.99  761140   \n",
       "88311                Ironbound   2018-01-04  Free To Play  643980   \n",
       "88312  Real Pool 3D - Poolians   2017-07-24  Free to Play  670290   \n",
       "88313                  弹炸人2222   2017-12-07          0.99  767400   \n",
       "88315    Battle Royale Trainer   2018-01-04          3.99  772540   \n",
       "\n",
       "                 developer  \n",
       "88310            Kotoshiro  \n",
       "88311     Secret Level SRL  \n",
       "88312         Poolians.com  \n",
       "88313                 彼岸领域  \n",
       "88315  Trickjump Games Ltd  "
      ]
     },
     "execution_count": 10,
     "metadata": {},
     "output_type": "execute_result"
    }
   ],
   "source": [
    "df_juegos.head()"
   ]
  },
  {
   "cell_type": "markdown",
   "metadata": {},
   "source": [
    "### Explotación de la columna \"genres\"."
   ]
  },
  {
   "cell_type": "code",
   "execution_count": 11,
   "metadata": {},
   "outputs": [],
   "source": [
    "df_juegos = df_juegos.explode(\"genres\")"
   ]
  },
  {
   "cell_type": "code",
   "execution_count": 12,
   "metadata": {},
   "outputs": [
    {
     "data": {
      "text/html": [
       "<div>\n",
       "<style scoped>\n",
       "    .dataframe tbody tr th:only-of-type {\n",
       "        vertical-align: middle;\n",
       "    }\n",
       "\n",
       "    .dataframe tbody tr th {\n",
       "        vertical-align: top;\n",
       "    }\n",
       "\n",
       "    .dataframe thead th {\n",
       "        text-align: right;\n",
       "    }\n",
       "</style>\n",
       "<table border=\"1\" class=\"dataframe\">\n",
       "  <thead>\n",
       "    <tr style=\"text-align: right;\">\n",
       "      <th></th>\n",
       "      <th>genres</th>\n",
       "      <th>title</th>\n",
       "      <th>release_date</th>\n",
       "      <th>price</th>\n",
       "      <th>id</th>\n",
       "      <th>developer</th>\n",
       "    </tr>\n",
       "  </thead>\n",
       "  <tbody>\n",
       "    <tr>\n",
       "      <th>88310</th>\n",
       "      <td>Action</td>\n",
       "      <td>Lost Summoner Kitty</td>\n",
       "      <td>2018-01-04</td>\n",
       "      <td>4.99</td>\n",
       "      <td>761140</td>\n",
       "      <td>Kotoshiro</td>\n",
       "    </tr>\n",
       "    <tr>\n",
       "      <th>88310</th>\n",
       "      <td>Casual</td>\n",
       "      <td>Lost Summoner Kitty</td>\n",
       "      <td>2018-01-04</td>\n",
       "      <td>4.99</td>\n",
       "      <td>761140</td>\n",
       "      <td>Kotoshiro</td>\n",
       "    </tr>\n",
       "    <tr>\n",
       "      <th>88310</th>\n",
       "      <td>Indie</td>\n",
       "      <td>Lost Summoner Kitty</td>\n",
       "      <td>2018-01-04</td>\n",
       "      <td>4.99</td>\n",
       "      <td>761140</td>\n",
       "      <td>Kotoshiro</td>\n",
       "    </tr>\n",
       "    <tr>\n",
       "      <th>88310</th>\n",
       "      <td>Simulation</td>\n",
       "      <td>Lost Summoner Kitty</td>\n",
       "      <td>2018-01-04</td>\n",
       "      <td>4.99</td>\n",
       "      <td>761140</td>\n",
       "      <td>Kotoshiro</td>\n",
       "    </tr>\n",
       "    <tr>\n",
       "      <th>88310</th>\n",
       "      <td>Strategy</td>\n",
       "      <td>Lost Summoner Kitty</td>\n",
       "      <td>2018-01-04</td>\n",
       "      <td>4.99</td>\n",
       "      <td>761140</td>\n",
       "      <td>Kotoshiro</td>\n",
       "    </tr>\n",
       "    <tr>\n",
       "      <th>88311</th>\n",
       "      <td>Free to Play</td>\n",
       "      <td>Ironbound</td>\n",
       "      <td>2018-01-04</td>\n",
       "      <td>Free To Play</td>\n",
       "      <td>643980</td>\n",
       "      <td>Secret Level SRL</td>\n",
       "    </tr>\n",
       "  </tbody>\n",
       "</table>\n",
       "</div>"
      ],
      "text/plain": [
       "             genres                title release_date         price      id  \\\n",
       "88310        Action  Lost Summoner Kitty   2018-01-04          4.99  761140   \n",
       "88310        Casual  Lost Summoner Kitty   2018-01-04          4.99  761140   \n",
       "88310         Indie  Lost Summoner Kitty   2018-01-04          4.99  761140   \n",
       "88310    Simulation  Lost Summoner Kitty   2018-01-04          4.99  761140   \n",
       "88310      Strategy  Lost Summoner Kitty   2018-01-04          4.99  761140   \n",
       "88311  Free to Play            Ironbound   2018-01-04  Free To Play  643980   \n",
       "\n",
       "              developer  \n",
       "88310         Kotoshiro  \n",
       "88310         Kotoshiro  \n",
       "88310         Kotoshiro  \n",
       "88310         Kotoshiro  \n",
       "88310         Kotoshiro  \n",
       "88311  Secret Level SRL  "
      ]
     },
     "execution_count": 12,
     "metadata": {},
     "output_type": "execute_result"
    }
   ],
   "source": [
    "df_juegos.head(6)"
   ]
  },
  {
   "cell_type": "markdown",
   "metadata": {},
   "source": [
    "### Eliminación de valores duplicados."
   ]
  },
  {
   "cell_type": "code",
   "execution_count": 13,
   "metadata": {},
   "outputs": [],
   "source": [
    "# Se eliminan los elementos duplicados existentes entre las columnas \"title\" y \"genres\".\n",
    "df_juegos = df_juegos.drop_duplicates(subset=['title', 'genres'])"
   ]
  },
  {
   "cell_type": "code",
   "execution_count": 14,
   "metadata": {},
   "outputs": [
    {
     "name": "stdout",
     "output_type": "stream",
     "text": [
      "<class 'pandas.core.frame.DataFrame'>\n",
      "Index: 55595 entries, 88310 to 120443\n",
      "Data columns (total 6 columns):\n",
      " #   Column        Non-Null Count  Dtype \n",
      "---  ------        --------------  ----- \n",
      " 0   genres        55595 non-null  object\n",
      " 1   title         55595 non-null  object\n",
      " 2   release_date  55595 non-null  object\n",
      " 3   price         55595 non-null  object\n",
      " 4   id            55595 non-null  object\n",
      " 5   developer     55595 non-null  object\n",
      "dtypes: object(6)\n",
      "memory usage: 3.0+ MB\n"
     ]
    }
   ],
   "source": [
    "df_juegos.info()"
   ]
  },
  {
   "cell_type": "markdown",
   "metadata": {},
   "source": [
    "### Normalización de la columna \"price\"."
   ]
  },
  {
   "cell_type": "code",
   "execution_count": 15,
   "metadata": {},
   "outputs": [
    {
     "data": {
      "text/plain": [
       "array([4.99, 'Free To Play', 'Free to Play', 0.99, 3.99, 18.99, 29.99,\n",
       "       10.99, 2.99, 1.59, 14.99, 1.99, 59.99, 9.99, 6.99, 7.99, 39.99,\n",
       "       'Free', 19.99, 7.49, 8.99, 12.99, 5.99, 2.49, 15.99, 1.25, 24.99,\n",
       "       17.99, 61.99, 3.49, 11.99, 13.99, 'Free Demo', 'Play for Free!',\n",
       "       34.99, 1.49, 32.99, 99.99, 14.95, 69.99, 16.99, 79.99, 49.99,\n",
       "       13.98, 149.99, 771.71, 'Install Now', 21.99, 89.99,\n",
       "       'Play WARMACHINE: Tactics Demo', 0.98, 139.92, 4.29, 'Free Mod',\n",
       "       54.99, 64.99, 74.99, 0.89, 0.5, 'Play Now', 299.99, 1.29, 119.99,\n",
       "       44.99, 3.0, 15.0, 1.39, 'Free HITMAN™ Holiday Pack', 2.0, 4.0,\n",
       "       1.95, 1.5, 6.66, 26.99, 399.99, 31.99, 20.0, 40.0, 5.0, 3.33,\n",
       "       38.85, 71.7, 995.0, 5.49, 27.49, 3.39, 6.0, 19.95, 20.99, 499.99,\n",
       "       27.99, 199.99, 4.68, 131.4, 44.98, 202.76, 2.3, 0.95, 36.99,\n",
       "       172.24, 249.99, 2.97, 10.96, 2.66, 6.48, 10.0, 1.0, 11.15,\n",
       "       'Play the Demo', 49.0, 199.0, 99.0, 87.94, 0.49, 9.98, 9.95, 12.89,\n",
       "       6.49, 1.87, 41.99, 4.49, 289.99, 23.96, 5.65, 12.0, 129.99, 23.99,\n",
       "       13.37, 189.96, 59.95, 160.91, 'Third-party'], dtype=object)"
      ]
     },
     "execution_count": 15,
     "metadata": {},
     "output_type": "execute_result"
    }
   ],
   "source": [
    "df_juegos['price'].unique()"
   ]
  },
  {
   "cell_type": "markdown",
   "metadata": {},
   "source": [
    "Se observa que hay algunos valores de tipo string cuando solo debe haber de tipo float."
   ]
  },
  {
   "cell_type": "code",
   "execution_count": 16,
   "metadata": {},
   "outputs": [],
   "source": [
    "# Se procede a convertir todos los valores no numéricos a precio \"0.00\".\n",
    "df_juegos['price'] = pd.to_numeric(df_juegos['price'], errors='coerce')\n",
    "df_juegos['price'].fillna(0.00, inplace=True)"
   ]
  },
  {
   "cell_type": "code",
   "execution_count": 17,
   "metadata": {},
   "outputs": [
    {
     "data": {
      "text/plain": [
       "array([4.9900e+00, 0.0000e+00, 9.9000e-01, 3.9900e+00, 1.8990e+01,\n",
       "       2.9990e+01, 1.0990e+01, 2.9900e+00, 1.5900e+00, 1.4990e+01,\n",
       "       1.9900e+00, 5.9990e+01, 9.9900e+00, 6.9900e+00, 7.9900e+00,\n",
       "       3.9990e+01, 1.9990e+01, 7.4900e+00, 8.9900e+00, 1.2990e+01,\n",
       "       5.9900e+00, 2.4900e+00, 1.5990e+01, 1.2500e+00, 2.4990e+01,\n",
       "       1.7990e+01, 6.1990e+01, 3.4900e+00, 1.1990e+01, 1.3990e+01,\n",
       "       3.4990e+01, 1.4900e+00, 3.2990e+01, 9.9990e+01, 1.4950e+01,\n",
       "       6.9990e+01, 1.6990e+01, 7.9990e+01, 4.9990e+01, 1.3980e+01,\n",
       "       1.4999e+02, 7.7171e+02, 2.1990e+01, 8.9990e+01, 9.8000e-01,\n",
       "       1.3992e+02, 4.2900e+00, 5.4990e+01, 6.4990e+01, 7.4990e+01,\n",
       "       8.9000e-01, 5.0000e-01, 2.9999e+02, 1.2900e+00, 1.1999e+02,\n",
       "       4.4990e+01, 3.0000e+00, 1.5000e+01, 1.3900e+00, 2.0000e+00,\n",
       "       4.0000e+00, 1.9500e+00, 1.5000e+00, 6.6600e+00, 2.6990e+01,\n",
       "       3.9999e+02, 3.1990e+01, 2.0000e+01, 4.0000e+01, 5.0000e+00,\n",
       "       3.3300e+00, 3.8850e+01, 7.1700e+01, 9.9500e+02, 5.4900e+00,\n",
       "       2.7490e+01, 3.3900e+00, 6.0000e+00, 1.9950e+01, 2.0990e+01,\n",
       "       4.9999e+02, 2.7990e+01, 1.9999e+02, 4.6800e+00, 1.3140e+02,\n",
       "       4.4980e+01, 2.0276e+02, 2.3000e+00, 9.5000e-01, 3.6990e+01,\n",
       "       1.7224e+02, 2.4999e+02, 2.9700e+00, 1.0960e+01, 2.6600e+00,\n",
       "       6.4800e+00, 1.0000e+01, 1.0000e+00, 1.1150e+01, 4.9000e+01,\n",
       "       1.9900e+02, 9.9000e+01, 8.7940e+01, 4.9000e-01, 9.9800e+00,\n",
       "       9.9500e+00, 1.2890e+01, 6.4900e+00, 1.8700e+00, 4.1990e+01,\n",
       "       4.4900e+00, 2.8999e+02, 2.3960e+01, 5.6500e+00, 1.2000e+01,\n",
       "       1.2999e+02, 2.3990e+01, 1.3370e+01, 1.8996e+02, 5.9950e+01,\n",
       "       1.6091e+02])"
      ]
     },
     "execution_count": 17,
     "metadata": {},
     "output_type": "execute_result"
    }
   ],
   "source": [
    "df_juegos['price'].unique()"
   ]
  },
  {
   "cell_type": "markdown",
   "metadata": {},
   "source": [
    "### Tipos de datos"
   ]
  },
  {
   "cell_type": "code",
   "execution_count": 18,
   "metadata": {},
   "outputs": [
    {
     "name": "stdout",
     "output_type": "stream",
     "text": [
      "<class 'pandas.core.frame.DataFrame'>\n",
      "Index: 55595 entries, 88310 to 120443\n",
      "Data columns (total 6 columns):\n",
      " #   Column        Non-Null Count  Dtype  \n",
      "---  ------        --------------  -----  \n",
      " 0   genres        55595 non-null  object \n",
      " 1   title         55595 non-null  object \n",
      " 2   release_date  55595 non-null  object \n",
      " 3   price         55595 non-null  float64\n",
      " 4   id            55595 non-null  object \n",
      " 5   developer     55595 non-null  object \n",
      "dtypes: float64(1), object(5)\n",
      "memory usage: 3.0+ MB\n"
     ]
    }
   ],
   "source": [
    "df_juegos.info()"
   ]
  },
  {
   "cell_type": "markdown",
   "metadata": {},
   "source": [
    "Se crea una nueva columna con los años de lanzamiento de cada juego ya que en los endpoints se pide solo el año."
   ]
  },
  {
   "cell_type": "code",
   "execution_count": 19,
   "metadata": {},
   "outputs": [],
   "source": [
    "# Se estandariza la columna a formato \"datetime\".\n",
    "df_juegos['release_date'] = pd.to_datetime(df_juegos['release_date'], format='mixed', errors='coerce')\n",
    "# Se extrae el año de lanzamiento del producto y se coloca en la columna \"release_year\"\n",
    "df_juegos['release_year'] = df_juegos['release_date'].dt.year\n",
    "# Se descarta la columna \"release_date\".\n",
    "df_juegos = df_juegos.drop(['release_date'], axis=1)"
   ]
  },
  {
   "cell_type": "code",
   "execution_count": 20,
   "metadata": {},
   "outputs": [
    {
     "data": {
      "text/plain": [
       "5"
      ]
     },
     "execution_count": 20,
     "metadata": {},
     "output_type": "execute_result"
    }
   ],
   "source": [
    "df_juegos['release_year'].isna().sum()"
   ]
  },
  {
   "cell_type": "code",
   "execution_count": 21,
   "metadata": {},
   "outputs": [],
   "source": [
    "df_juegos = df_juegos.dropna()"
   ]
  },
  {
   "cell_type": "code",
   "execution_count": 22,
   "metadata": {},
   "outputs": [
    {
     "name": "stdout",
     "output_type": "stream",
     "text": [
      "<class 'pandas.core.frame.DataFrame'>\n",
      "Index: 55590 entries, 88310 to 120443\n",
      "Data columns (total 6 columns):\n",
      " #   Column        Non-Null Count  Dtype  \n",
      "---  ------        --------------  -----  \n",
      " 0   genres        55590 non-null  object \n",
      " 1   title         55590 non-null  object \n",
      " 2   price         55590 non-null  float64\n",
      " 3   id            55590 non-null  object \n",
      " 4   developer     55590 non-null  object \n",
      " 5   release_year  55590 non-null  float64\n",
      "dtypes: float64(2), object(4)\n",
      "memory usage: 3.0+ MB\n"
     ]
    }
   ],
   "source": [
    "df_juegos.info()"
   ]
  },
  {
   "cell_type": "code",
   "execution_count": 23,
   "metadata": {},
   "outputs": [],
   "source": [
    "# Se convierten los elementos de la columna \"release_year\" a valores de tipo integer.\n",
    "df_juegos['release_year'] = df_juegos['release_year'].astype(int)"
   ]
  },
  {
   "cell_type": "code",
   "execution_count": 24,
   "metadata": {},
   "outputs": [
    {
     "name": "stdout",
     "output_type": "stream",
     "text": [
      "<class 'pandas.core.frame.DataFrame'>\n",
      "Index: 55590 entries, 88310 to 120443\n",
      "Data columns (total 6 columns):\n",
      " #   Column        Non-Null Count  Dtype  \n",
      "---  ------        --------------  -----  \n",
      " 0   genres        55590 non-null  object \n",
      " 1   title         55590 non-null  object \n",
      " 2   price         55590 non-null  float64\n",
      " 3   id            55590 non-null  object \n",
      " 4   developer     55590 non-null  object \n",
      " 5   release_year  55590 non-null  int32  \n",
      "dtypes: float64(1), int32(1), object(4)\n",
      "memory usage: 2.8+ MB\n"
     ]
    }
   ],
   "source": [
    "df_juegos.info()"
   ]
  },
  {
   "cell_type": "code",
   "execution_count": 25,
   "metadata": {},
   "outputs": [],
   "source": [
    "# Se pasa a formato minúscula las palabras de las columnas 'genres', 'title' y 'developer' para facilitar el uso de las funciones.\n",
    "df_juegos['genres'] = df_juegos['genres'].str.lower()\n",
    "df_juegos['title'] = df_juegos['title'].str.lower()\n",
    "df_juegos['developer'] = df_juegos['developer'].str.lower()"
   ]
  },
  {
   "cell_type": "markdown",
   "metadata": {},
   "source": [
    "Reseteo de índice."
   ]
  },
  {
   "cell_type": "code",
   "execution_count": 26,
   "metadata": {},
   "outputs": [
    {
     "name": "stdout",
     "output_type": "stream",
     "text": [
      "<class 'pandas.core.frame.DataFrame'>\n",
      "RangeIndex: 55590 entries, 0 to 55589\n",
      "Data columns (total 6 columns):\n",
      " #   Column        Non-Null Count  Dtype  \n",
      "---  ------        --------------  -----  \n",
      " 0   genres        55590 non-null  object \n",
      " 1   title         55590 non-null  object \n",
      " 2   price         55590 non-null  float64\n",
      " 3   id            55590 non-null  object \n",
      " 4   developer     55590 non-null  object \n",
      " 5   release_year  55590 non-null  int32  \n",
      "dtypes: float64(1), int32(1), object(4)\n",
      "memory usage: 2.3+ MB\n"
     ]
    }
   ],
   "source": [
    "df_juegos.reset_index(inplace=True, drop=True)\n",
    "df_juegos.info()"
   ]
  },
  {
   "cell_type": "markdown",
   "metadata": {},
   "source": [
    "### Carga de datos."
   ]
  },
  {
   "cell_type": "code",
   "execution_count": 27,
   "metadata": {},
   "outputs": [],
   "source": [
    "# Se crea un archivo parquet a partir del dataframe.\n",
    "table = pa.Table.from_pandas(df_juegos)\n",
    "pq.write_table(table, 'juegos.parquet')"
   ]
  }
 ],
 "metadata": {
  "kernelspec": {
   "display_name": "Python 3",
   "language": "python",
   "name": "python3"
  },
  "language_info": {
   "codemirror_mode": {
    "name": "ipython",
    "version": 3
   },
   "file_extension": ".py",
   "mimetype": "text/x-python",
   "name": "python",
   "nbconvert_exporter": "python",
   "pygments_lexer": "ipython3",
   "version": "3.11.9"
  }
 },
 "nbformat": 4,
 "nbformat_minor": 2
}
